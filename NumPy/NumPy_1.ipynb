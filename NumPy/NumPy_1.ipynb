{
  "nbformat": 4,
  "nbformat_minor": 0,
  "metadata": {
    "colab": {
      "provenance": [],
      "collapsed_sections": [
        "kZgsTLbAIc7F",
        "hFiIkVXCPECk",
        "9eSirtDLXySn",
        "tU2tK9VXf7_V"
      ],
      "toc_visible": true,
      "authorship_tag": "ABX9TyOMzbuZw55g8LX4vZRTNXT/",
      "include_colab_link": true
    },
    "kernelspec": {
      "name": "python3",
      "display_name": "Python 3"
    },
    "language_info": {
      "name": "python"
    }
  },
  "cells": [
    {
      "cell_type": "markdown",
      "metadata": {
        "id": "view-in-github",
        "colab_type": "text"
      },
      "source": [
        "<a href=\"https://colab.research.google.com/github/Marianno77/data-science/blob/main/NumPy/NumPy_1.ipynb\" target=\"_parent\"><img src=\"https://colab.research.google.com/assets/colab-badge.svg\" alt=\"Open In Colab\"/></a>"
      ]
    },
    {
      "cell_type": "markdown",
      "source": [
        "# **Import Biblioteki NumPy**"
      ],
      "metadata": {
        "id": "kZgsTLbAIc7F"
      }
    },
    {
      "cell_type": "code",
      "execution_count": 1,
      "metadata": {
        "colab": {
          "base_uri": "https://localhost:8080/",
          "height": 0
        },
        "id": "El7IR2ptFfet",
        "outputId": "c8e17318-a7b7-427b-ac42-34160a8e8e0b"
      },
      "outputs": [
        {
          "output_type": "execute_result",
          "data": {
            "text/plain": [
              "'1.26.4'"
            ],
            "application/vnd.google.colaboratory.intrinsic+json": {
              "type": "string"
            }
          },
          "metadata": {},
          "execution_count": 1
        }
      ],
      "source": [
        "import numpy as np\n",
        "np.__version__"
      ]
    },
    {
      "cell_type": "markdown",
      "source": [
        "# **Tablice**"
      ],
      "metadata": {
        "id": "hFiIkVXCPECk"
      }
    },
    {
      "cell_type": "markdown",
      "source": [
        "1D"
      ],
      "metadata": {
        "id": "0Dbb7h3gP6uS"
      }
    },
    {
      "cell_type": "code",
      "source": [
        "x = np.array([1,2])\n",
        "print('Zawartość tablicy: ' + str(x))\n",
        "print('rozmiar tablicy: ' + str(x.size))"
      ],
      "metadata": {
        "colab": {
          "base_uri": "https://localhost:8080/"
        },
        "id": "Pi9HztSPPILk",
        "outputId": "55895c30-78a8-40f7-c841-5c9ed0eef8b5"
      },
      "execution_count": null,
      "outputs": [
        {
          "output_type": "stream",
          "name": "stdout",
          "text": [
            "Zawartość tablicy: [1 2]\n",
            "rozmiar tablicy: 2\n"
          ]
        }
      ]
    },
    {
      "cell_type": "markdown",
      "source": [
        "2D"
      ],
      "metadata": {
        "id": "_qIZavkeP9w3"
      }
    },
    {
      "cell_type": "code",
      "source": [
        "x = np.array([[1,2],[3,4]])\n",
        "print('Zawartość tablicy: \\n' + str(x))\n",
        "print('rozmiar tablicy: ' + str(x.size))"
      ],
      "metadata": {
        "colab": {
          "base_uri": "https://localhost:8080/"
        },
        "id": "BS74KHyEP-lP",
        "outputId": "b3b79b6a-b723-4edb-f65e-2f49e66cb63c"
      },
      "execution_count": null,
      "outputs": [
        {
          "output_type": "stream",
          "name": "stdout",
          "text": [
            "Zawartość tablicy: \n",
            "[[1 2]\n",
            " [3 4]]\n",
            "rozmiar tablicy: 4\n"
          ]
        }
      ]
    },
    {
      "cell_type": "markdown",
      "source": [
        "3D"
      ],
      "metadata": {
        "id": "DOL-e1niQLbI"
      }
    },
    {
      "cell_type": "code",
      "source": [
        "\n",
        "\n",
        "x = np.array(\n",
        "    [[[1,2,3],\n",
        "      [4,5,6]],\n",
        "\n",
        "     [[7,8,9],\n",
        "      [10,11,12]]]\n",
        ")\n",
        "print('Zawartość tablicy: \\n' + str(x))\n",
        "print('rozmiar tablicy: ' + str(x.size))"
      ],
      "metadata": {
        "colab": {
          "base_uri": "https://localhost:8080/"
        },
        "id": "NVh4T6BoQMli",
        "outputId": "426a417e-4bc1-4670-d6d1-c3bf614de6ad"
      },
      "execution_count": null,
      "outputs": [
        {
          "output_type": "stream",
          "name": "stdout",
          "text": [
            "Zawartość tablicy: \n",
            "[[[ 1  2  3]\n",
            "  [ 4  5  6]]\n",
            "\n",
            " [[ 7  8  9]\n",
            "  [10 11 12]]]\n",
            "rozmiar tablicy: 12\n",
            "8\n"
          ]
        }
      ]
    },
    {
      "cell_type": "markdown",
      "source": [
        "full, arange, linspace, reshape"
      ],
      "metadata": {
        "id": "Ty8DtawqiETA"
      }
    },
    {
      "cell_type": "code",
      "source": [
        "x = np.full((3,3), fill_value=5, dtype='int')\n",
        "print('Zawartość tablicy: \\n' + str(x))"
      ],
      "metadata": {
        "colab": {
          "base_uri": "https://localhost:8080/"
        },
        "id": "evkAM2-3iSyj",
        "outputId": "7cef05bd-bd4b-40a4-aef0-31052270b013"
      },
      "execution_count": null,
      "outputs": [
        {
          "output_type": "stream",
          "name": "stdout",
          "text": [
            "Zawartość tablicy: \n",
            "[[5 5 5]\n",
            " [5 5 5]\n",
            " [5 5 5]]\n"
          ]
        }
      ]
    },
    {
      "cell_type": "code",
      "source": [
        "x = np.arange(start=1, stop=11)\n",
        "print('Zawartość tablicy: \\n' + str(x))"
      ],
      "metadata": {
        "colab": {
          "base_uri": "https://localhost:8080/"
        },
        "id": "3f0DFfq0iyPV",
        "outputId": "092247e8-4819-47be-c4e9-5b1bccca1927"
      },
      "execution_count": null,
      "outputs": [
        {
          "output_type": "stream",
          "name": "stdout",
          "text": [
            "Zawartość tablicy: \n",
            "[ 1  2  3  4  5  6  7  8  9 10]\n"
          ]
        }
      ]
    },
    {
      "cell_type": "code",
      "source": [
        "x = np.arange(start=0, stop=11, step=2)\n",
        "print('Zawartość tablicy: ' + str(x))"
      ],
      "metadata": {
        "colab": {
          "base_uri": "https://localhost:8080/"
        },
        "id": "WqvphJ9ujFuM",
        "outputId": "126337c8-d9d8-4638-c97e-a35ecb46e3ea"
      },
      "execution_count": null,
      "outputs": [
        {
          "output_type": "stream",
          "name": "stdout",
          "text": [
            "Zawartość tablicy: [ 0  2  4  6  8 10]\n"
          ]
        }
      ]
    },
    {
      "cell_type": "code",
      "source": [
        "x = np.linspace(start=0,stop=10, num=6, dtype='int')\n",
        "print('Zawartość tablicy: ' + str(x))"
      ],
      "metadata": {
        "colab": {
          "base_uri": "https://localhost:8080/"
        },
        "id": "Rt0QN7rDjRlG",
        "outputId": "19245c49-8ed7-4caf-cb6c-6add4a2a93ed"
      },
      "execution_count": null,
      "outputs": [
        {
          "output_type": "stream",
          "name": "stdout",
          "text": [
            "Zawartość tablicy: [ 0  2  4  6  8 10]\n"
          ]
        }
      ]
    },
    {
      "cell_type": "code",
      "source": [
        "x = np.arange(start=1, stop=11)\n",
        "print('Zawartość tablicy: ' + str(x))\n",
        "x = x.reshape(2,5)\n",
        "print('Zawartość tablicy: \\n' + str(x))\n",
        "x = x.reshape(5,-1)\n",
        "print('Zawartość tablicy: \\n' + str(x))"
      ],
      "metadata": {
        "colab": {
          "base_uri": "https://localhost:8080/"
        },
        "id": "BfYS89GOjv-c",
        "outputId": "ea753ff6-ae56-4f7e-94ca-ff9450c9e16c"
      },
      "execution_count": null,
      "outputs": [
        {
          "output_type": "stream",
          "name": "stdout",
          "text": [
            "Zawartość tablicy: [ 1  2  3  4  5  6  7  8  9 10]\n",
            "Zawartość tablicy: \n",
            "[[ 1  2  3  4  5]\n",
            " [ 6  7  8  9 10]]\n",
            "Zawartość tablicy: \n",
            "[[ 1  2]\n",
            " [ 3  4]\n",
            " [ 5  6]\n",
            " [ 7  8]\n",
            " [ 9 10]]\n"
          ]
        }
      ]
    },
    {
      "cell_type": "markdown",
      "source": [
        "# Działania na tablicach"
      ],
      "metadata": {
        "id": "9eSirtDLXySn"
      }
    },
    {
      "cell_type": "code",
      "source": [
        "a = np.array([1,2,3])\n",
        "b = np.array([4,5,6])\n",
        "print('Zawartość tablicy a: ' + str(a))\n",
        "print('Zawartość tablicy b: ' + str(b))\n",
        "print('tablica a + tablica b = ' + str(a+b))\n",
        "print('tablica a - tablica b = ' + str(a-b))\n",
        "print('tablica a * tablica b = ' + str(a*b))\n",
        "print('tablica a / tablica b = ' + str(a/b))"
      ],
      "metadata": {
        "colab": {
          "base_uri": "https://localhost:8080/"
        },
        "id": "vNaYSxE7X6Rm",
        "outputId": "56523b79-1280-43fa-e659-d19ccccd8888"
      },
      "execution_count": null,
      "outputs": [
        {
          "output_type": "stream",
          "name": "stdout",
          "text": [
            "Zawartość tablicy a: [1 2 3]\n",
            "Zawartość tablicy b: [4 5 6]\n",
            "tablica a + tablica b = [5 7 9]\n",
            "tablica a - tablica b = [-3 -3 -3]\n",
            "tablica a * tablica b = [ 4 10 18]\n",
            "tablica a / tablica b = [0.25 0.4  0.5 ]\n"
          ]
        }
      ]
    },
    {
      "cell_type": "code",
      "source": [
        "a = np.array([1,2,3])\n",
        "b = np.array([4,5,6])\n",
        "print('Zawartość tablicy a: ' + str(a))\n",
        "print('Zawartość tablicy b: ' + str(b))\n",
        "print('tablica a + tablica b = ' + str(np.add(a,b)))\n",
        "print('tablica a - tablica b = ' + str(np.subtract(a,b)))\n",
        "print('tablica a * tablica b = ' + str(np.multiply(a,b)))\n",
        "print('tablica a / tablica b = ' + str(np.divide(a,b)))"
      ],
      "metadata": {
        "colab": {
          "base_uri": "https://localhost:8080/"
        },
        "id": "XPQuVyZ9YtQe",
        "outputId": "91c438db-6793-4044-cfcb-f25911423f88"
      },
      "execution_count": null,
      "outputs": [
        {
          "output_type": "stream",
          "name": "stdout",
          "text": [
            "Zawartość tablicy a: [1 2 3]\n",
            "Zawartość tablicy b: [4 5 6]\n",
            "tablica a + tablica b = [5 7 9]\n",
            "tablica a - tablica b = [-3 -3 -3]\n",
            "tablica a * tablica b = [ 4 10 18]\n",
            "tablica a / tablica b = [0.25 0.4  0.5 ]\n"
          ]
        }
      ]
    },
    {
      "cell_type": "code",
      "source": [
        "a = np.array([1,2,3])\n",
        "print('Zawartość tablicy a: ' + str(a))\n",
        "print('tablica a + 2 = ' + str(a+2))\n",
        "print('tablica a - 2 = ' + str(a-2))\n",
        "print('tablica a * 2 = ' + str(a*2))\n",
        "print('tablica a / 2 = ' + str(a/2))"
      ],
      "metadata": {
        "colab": {
          "base_uri": "https://localhost:8080/"
        },
        "id": "mcxBrR90ZI2u",
        "outputId": "1ccb1a7e-300a-42db-c0c1-77a585c3e0b5"
      },
      "execution_count": null,
      "outputs": [
        {
          "output_type": "stream",
          "name": "stdout",
          "text": [
            "Zawartość tablicy a: [1 2 3]\n",
            "tablica a + 2 = [3 4 5]\n",
            "tablica a - 2 = [-1  0  1]\n",
            "tablica a * 2 = [2 4 6]\n",
            "tablica a / 2 = [0.5 1.  1.5]\n"
          ]
        }
      ]
    },
    {
      "cell_type": "code",
      "source": [
        "a = np.array([[1,2],[3,4]])\n",
        "b = np.array([[5,6],[7,8]])\n",
        "print('Zawartość tablicy a: \\n' + str(a))\n",
        "print('Zawartość tablicy b: \\n' + str(b))\n",
        "print('tablica a + tablica b = \\n' + str(np.add(a,b)))\n",
        "print('tablica a - tablica b = \\n' + str(np.subtract(a,b)))\n",
        "print('tablica a * tablica b = \\n' + str(np.multiply(a,b)))\n",
        "print('tablica a / tablica b = \\n' + str(np.divide(a,b)))"
      ],
      "metadata": {
        "colab": {
          "base_uri": "https://localhost:8080/"
        },
        "id": "GZOQntP3Zf8h",
        "outputId": "6b616f3a-8c50-4cf8-f479-3ac1692b6321"
      },
      "execution_count": null,
      "outputs": [
        {
          "output_type": "stream",
          "name": "stdout",
          "text": [
            "Zawartość tablicy a: \n",
            "[[1 2]\n",
            " [3 4]]\n",
            "Zawartość tablicy b: \n",
            "[[5 6]\n",
            " [7 8]]\n",
            "tablica a + tablica b = \n",
            "[[ 6  8]\n",
            " [10 12]]\n",
            "tablica a - tablica b = \n",
            "[[-4 -4]\n",
            " [-4 -4]]\n",
            "tablica a * tablica b = \n",
            "[[ 5 12]\n",
            " [21 32]]\n",
            "tablica a / tablica b = \n",
            "[[0.2        0.33333333]\n",
            " [0.42857143 0.5       ]]\n"
          ]
        }
      ]
    },
    {
      "cell_type": "code",
      "source": [
        "a = np.array([[1,2],[3,4]])\n",
        "b = np.array([[5,6],[7,8]])\n",
        "print('Zawartość tablicy a: \\n' + str(a))\n",
        "print('Zawartość tablicy b: \\n' + str(b))\n",
        "print('mnożenie macierzy a⋅b, zgodnie z zasadami algebry liniowej: \\n' + str(np.dot(a,b)))\n",
        "print('mnożenie macierzy b⋅a, zgodnie z zasadami algebry liniowej: \\n' + str(a.dot(b)))\n",
        "print('mnożenie macierzy a⋅b, zgodnie z zasadami algebry liniowej: \\n' + str(a@b))"
      ],
      "metadata": {
        "colab": {
          "base_uri": "https://localhost:8080/"
        },
        "id": "uJbMBgDuarNP",
        "outputId": "f125b757-15c8-499f-f2a7-1a442fb75ac2"
      },
      "execution_count": null,
      "outputs": [
        {
          "output_type": "stream",
          "name": "stdout",
          "text": [
            "Zawartość tablicy a: \n",
            "[[1 2]\n",
            " [3 4]]\n",
            "Zawartość tablicy b: \n",
            "[[5 6]\n",
            " [7 8]]\n",
            "mnożenie macierzy a⋅b, zgodnie z zasadami algebry liniowej: \n",
            "[[19 22]\n",
            " [43 50]]\n",
            "mnożenie macierzy b⋅a, zgodnie z zasadami algebry liniowej: \n",
            "[[19 22]\n",
            " [43 50]]\n",
            "mnożenie macierzy a⋅b, zgodnie z zasadami algebry liniowej: \n",
            "[[19 22]\n",
            " [43 50]]\n"
          ]
        }
      ]
    },
    {
      "cell_type": "markdown",
      "source": [
        "# Generowanie liczb losowych"
      ],
      "metadata": {
        "id": "tU2tK9VXf7_V"
      }
    },
    {
      "cell_type": "code",
      "source": [
        "np.random.randint(10)"
      ],
      "metadata": {
        "colab": {
          "base_uri": "https://localhost:8080/"
        },
        "id": "DQJ0oO_fA4uN",
        "outputId": "90a0713d-66d0-4c0e-de84-8c6de9cd224a"
      },
      "execution_count": null,
      "outputs": [
        {
          "output_type": "execute_result",
          "data": {
            "text/plain": [
              "0"
            ]
          },
          "metadata": {},
          "execution_count": 117
        }
      ]
    },
    {
      "cell_type": "code",
      "source": [
        "#generowanie tych samych liczb losowych\n",
        "np.random.seed(0)\n",
        "\n",
        "np.random.randint(10)"
      ],
      "metadata": {
        "id": "-DAyephhgLq-",
        "colab": {
          "base_uri": "https://localhost:8080/"
        },
        "outputId": "6df4c5b4-b06b-426b-f658-33c441bd4a94"
      },
      "execution_count": null,
      "outputs": [
        {
          "output_type": "execute_result",
          "data": {
            "text/plain": [
              "5"
            ]
          },
          "metadata": {},
          "execution_count": 118
        }
      ]
    },
    {
      "cell_type": "markdown",
      "source": [
        "generowanie liczb z przedziału"
      ],
      "metadata": {
        "id": "pvTaCjbkA9le"
      }
    },
    {
      "cell_type": "code",
      "source": [
        "np.random.randint(low=5, high=10)"
      ],
      "metadata": {
        "colab": {
          "base_uri": "https://localhost:8080/"
        },
        "id": "-3T1Ra5mAiXM",
        "outputId": "10455e4f-9b87-497d-cd98-487d3dd051e6"
      },
      "execution_count": null,
      "outputs": [
        {
          "output_type": "execute_result",
          "data": {
            "text/plain": [
              "5"
            ]
          },
          "metadata": {},
          "execution_count": 119
        }
      ]
    },
    {
      "cell_type": "markdown",
      "source": [
        "automatycznie generowanie tablicy wypełnionej losowymi liczbami"
      ],
      "metadata": {
        "id": "8dy4uIjeBPYN"
      }
    },
    {
      "cell_type": "code",
      "source": [
        "np.random.randint(low=5, high=10, size=5)"
      ],
      "metadata": {
        "colab": {
          "base_uri": "https://localhost:8080/"
        },
        "id": "gZOmAP_2BKUa",
        "outputId": "def4b6b6-daeb-4464-a64c-f985b49804fd"
      },
      "execution_count": null,
      "outputs": [
        {
          "output_type": "execute_result",
          "data": {
            "text/plain": [
              "array([8, 8, 8, 6, 8])"
            ]
          },
          "metadata": {},
          "execution_count": 120
        }
      ]
    },
    {
      "cell_type": "markdown",
      "source": [
        "losowanie elementu z tablicy"
      ],
      "metadata": {
        "id": "qhi0y6KdBWLM"
      }
    },
    {
      "cell_type": "code",
      "source": [
        "np.random.choice(['jeden', 'dwa', 'trzy'])"
      ],
      "metadata": {
        "colab": {
          "base_uri": "https://localhost:8080/",
          "height": 35
        },
        "id": "KoEp_ANABaBj",
        "outputId": "07d35d00-0dc9-4f25-e96d-14973c5521d5"
      },
      "execution_count": null,
      "outputs": [
        {
          "output_type": "execute_result",
          "data": {
            "text/plain": [
              "'dwa'"
            ],
            "application/vnd.google.colaboratory.intrinsic+json": {
              "type": "string"
            }
          },
          "metadata": {},
          "execution_count": 121
        }
      ]
    },
    {
      "cell_type": "markdown",
      "source": [
        "losowe tasownaie elementów tablicy"
      ],
      "metadata": {
        "id": "Ta991yZkBycp"
      }
    },
    {
      "cell_type": "code",
      "source": [
        "x = np.arange(10)\n",
        "print('zawartość tablicy x: ' + str(x))\n",
        "np.random.shuffle(x)\n",
        "print('zawartość potasowanej tablicy x: ' + str(x))"
      ],
      "metadata": {
        "colab": {
          "base_uri": "https://localhost:8080/"
        },
        "id": "muXK5WT_B2t-",
        "outputId": "bf9ea0b3-82f4-4b65-e197-1ec59e2ed1f0"
      },
      "execution_count": null,
      "outputs": [
        {
          "output_type": "stream",
          "name": "stdout",
          "text": [
            "zawartość tablicy x: [0 1 2 3 4 5 6 7 8 9]\n",
            "zawartość potasowanej tablicy x: [3 1 9 8 5 0 6 7 4 2]\n"
          ]
        }
      ]
    },
    {
      "cell_type": "markdown",
      "source": [
        "# Elementy tablicy"
      ],
      "metadata": {
        "id": "3XT_ExC6FZbt"
      }
    },
    {
      "cell_type": "code",
      "source": [
        "x = np.arange(10)\n",
        "print('zawartość tablicy x: ' + str(x))\n",
        "print('trzeci element tablicy x: ' + str(x[3]))\n",
        "print('elementy tablicy x od 2 do 4: ' + str(x[1:3]))\n",
        "print('elementy tablicy x od 2: ' + str(x[1:]))\n",
        "print('elementy tablicy x do 4: ' + str(x[:3]))"
      ],
      "metadata": {
        "colab": {
          "base_uri": "https://localhost:8080/"
        },
        "id": "vFATHi7FFeFl",
        "outputId": "30d276eb-9bfa-4e26-bff5-6c767da258f8"
      },
      "execution_count": null,
      "outputs": [
        {
          "output_type": "stream",
          "name": "stdout",
          "text": [
            "zawartość tablicy x: [0 1 2 3 4 5 6 7 8 9]\n",
            "trzeci element tablicy x: 3\n",
            "elementy tablicy x od 2 do 4: [1 2]\n",
            "elementy tablicy x od 2: [1 2 3 4 5 6 7 8 9]\n",
            "elementy tablicy x do 4: [0 1 2]\n"
          ]
        }
      ]
    },
    {
      "cell_type": "code",
      "source": [
        "x = np.arange(10)\n",
        "x = x.reshape(2,5)\n",
        "print('Zawartość tablicy x: \\n' + str(x))\n",
        "\n",
        "print('pierwszy wiersz tablicy x: ' + str(x[0]))\n",
        "print('pierwsza kolumna tablicy x: '  + str(x[:,0]))\n",
        "print('element (1,2) tablicy x: ' + str(x[1][2]))"
      ],
      "metadata": {
        "colab": {
          "base_uri": "https://localhost:8080/"
        },
        "id": "kw6pOcQBGqnK",
        "outputId": "fec38f7e-8a68-4d8b-b709-90b90c1ba918"
      },
      "execution_count": null,
      "outputs": [
        {
          "output_type": "stream",
          "name": "stdout",
          "text": [
            "Zawartość tablicy x: \n",
            "[[0 1 2 3 4]\n",
            " [5 6 7 8 9]]\n",
            "pierwszy wiersz tablicy x: [0 1 2 3 4]\n",
            "pierwsza kolumna tablicy x: [0 5]\n",
            "element (1,2) tablicy x: 7\n"
          ]
        }
      ]
    },
    {
      "cell_type": "code",
      "source": [],
      "metadata": {
        "id": "dMf4e4e3G7U6"
      },
      "execution_count": null,
      "outputs": []
    },
    {
      "cell_type": "markdown",
      "source": [],
      "metadata": {
        "id": "6ARSBhT0I0gF"
      }
    },
    {
      "cell_type": "markdown",
      "source": [],
      "metadata": {
        "id": "RatLRampI2Lh"
      }
    },
    {
      "cell_type": "markdown",
      "source": [
        "# Maski logiczne"
      ],
      "metadata": {
        "id": "OTm_urx5TYNO"
      }
    },
    {
      "cell_type": "code",
      "source": [
        "x = np.arange(start=-10, stop=10.5, step=0.5)\n",
        "print('Zawartość tablicy x: ' + str(x))"
      ],
      "metadata": {
        "colab": {
          "base_uri": "https://localhost:8080/"
        },
        "id": "x5zav9a2ThzH",
        "outputId": "0e10477f-7229-4124-f6ad-c3306d744695"
      },
      "execution_count": 4,
      "outputs": [
        {
          "output_type": "stream",
          "name": "stdout",
          "text": [
            "Zawartość tablicy x: [-10.   -9.5  -9.   -8.5  -8.   -7.5  -7.   -6.5  -6.   -5.5  -5.   -4.5\n",
            "  -4.   -3.5  -3.   -2.5  -2.   -1.5  -1.   -0.5   0.    0.5   1.    1.5\n",
            "   2.    2.5   3.    3.5   4.    4.5   5.    5.5   6.    6.5   7.    7.5\n",
            "   8.    8.5   9.    9.5  10. ]\n"
          ]
        }
      ]
    },
    {
      "cell_type": "markdown",
      "source": [
        "sprawdzanie które elementy są dodatnie"
      ],
      "metadata": {
        "id": "A2qozmlVT6Bj"
      }
    },
    {
      "cell_type": "code",
      "source": [
        "print(x > 0)"
      ],
      "metadata": {
        "colab": {
          "base_uri": "https://localhost:8080/"
        },
        "id": "1n04x3keT03u",
        "outputId": "feb53dd0-a15e-4542-83ae-0ef6100680d3"
      },
      "execution_count": 10,
      "outputs": [
        {
          "output_type": "stream",
          "name": "stdout",
          "text": [
            "[False False False False False False False False False False False False\n",
            " False False False False False False False False False  True  True  True\n",
            "  True  True  True  True  True  True  True  True  True  True  True  True\n",
            "  True  True  True  True  True]\n"
          ]
        }
      ]
    },
    {
      "cell_type": "markdown",
      "source": [
        "wypisywanie tych liczb"
      ],
      "metadata": {
        "id": "w4c6adPmUEXi"
      }
    },
    {
      "cell_type": "code",
      "source": [
        "print(x[x > 0])"
      ],
      "metadata": {
        "colab": {
          "base_uri": "https://localhost:8080/"
        },
        "id": "u7gs_m4dUHap",
        "outputId": "c74185ba-4427-4dcb-f0fd-f8e54e3e68a2"
      },
      "execution_count": 11,
      "outputs": [
        {
          "output_type": "stream",
          "name": "stdout",
          "text": [
            "[ 0.5  1.   1.5  2.   2.5  3.   3.5  4.   4.5  5.   5.5  6.   6.5  7.\n",
            "  7.5  8.   8.5  9.   9.5 10. ]\n"
          ]
        }
      ]
    },
    {
      "cell_type": "markdown",
      "source": [
        "dwa warunki, (przedział)"
      ],
      "metadata": {
        "id": "FxmhzdJyUegg"
      }
    },
    {
      "cell_type": "code",
      "source": [
        "print(np.bitwise_and(x > -5 , x < 5))"
      ],
      "metadata": {
        "colab": {
          "base_uri": "https://localhost:8080/"
        },
        "id": "k9YiRqHwUiie",
        "outputId": "8679664a-fa44-4d9f-f073-889353cea2c7"
      },
      "execution_count": 9,
      "outputs": [
        {
          "output_type": "stream",
          "name": "stdout",
          "text": [
            "[False False False False False False False False False False False  True\n",
            "  True  True  True  True  True  True  True  True  True  True  True  True\n",
            "  True  True  True  True  True  True False False False False False False\n",
            " False False False False False]\n"
          ]
        }
      ]
    },
    {
      "cell_type": "code",
      "source": [
        "print(x[np.bitwise_and(x > -5 , x < 5)])"
      ],
      "metadata": {
        "colab": {
          "base_uri": "https://localhost:8080/"
        },
        "id": "Hj81kSmSU2ck",
        "outputId": "002cc9ff-70fe-4675-8541-c05c614d4a86"
      },
      "execution_count": 12,
      "outputs": [
        {
          "output_type": "stream",
          "name": "stdout",
          "text": [
            "[-4.5 -4.  -3.5 -3.  -2.5 -2.  -1.5 -1.  -0.5  0.   0.5  1.   1.5  2.\n",
            "  2.5  3.   3.5  4.   4.5]\n"
          ]
        }
      ]
    }
  ]
}