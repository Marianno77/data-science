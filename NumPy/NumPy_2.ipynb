{
  "nbformat": 4,
  "nbformat_minor": 0,
  "metadata": {
    "colab": {
      "provenance": [],
      "toc_visible": true,
      "authorship_tag": "ABX9TyMQ8XvB6gzSEix/cXVseBYU",
      "include_colab_link": true
    },
    "kernelspec": {
      "name": "python3",
      "display_name": "Python 3"
    },
    "language_info": {
      "name": "python"
    }
  },
  "cells": [
    {
      "cell_type": "markdown",
      "metadata": {
        "id": "view-in-github",
        "colab_type": "text"
      },
      "source": [
        "<a href=\"https://colab.research.google.com/github/Marianno77/data-science/blob/main/NumPy/NumPy_2.ipynb\" target=\"_parent\"><img src=\"https://colab.research.google.com/assets/colab-badge.svg\" alt=\"Open In Colab\"/></a>"
      ]
    },
    {
      "cell_type": "code",
      "source": [
        "import numpy as np"
      ],
      "metadata": {
        "id": "4w8KZ13lXqwW"
      },
      "execution_count": 1,
      "outputs": []
    },
    {
      "cell_type": "markdown",
      "source": [
        "# **Algebra liniowa**"
      ],
      "metadata": {
        "id": "gHPjsOcigFNd"
      }
    },
    {
      "cell_type": "markdown",
      "source": [
        "## **Norma wektora**"
      ],
      "metadata": {
        "id": "6MoMmKg_Z6ht"
      }
    },
    {
      "cell_type": "markdown",
      "source": [
        "### Norma wektora w R2"
      ],
      "metadata": {
        "id": "wrCS-fx1XcUc"
      }
    },
    {
      "cell_type": "code",
      "source": [
        "v1 = np.array([0, 4])\n",
        "print(v1)\n",
        "print(np.linalg.norm(v1))"
      ],
      "metadata": {
        "colab": {
          "base_uri": "https://localhost:8080/"
        },
        "id": "8qbDRn6nXlWM",
        "outputId": "c2bc2d54-d6f9-4922-e946-ecd530b4c7bb"
      },
      "execution_count": 53,
      "outputs": [
        {
          "output_type": "stream",
          "name": "stdout",
          "text": [
            "[0 4]\n",
            "4.0\n"
          ]
        }
      ]
    },
    {
      "cell_type": "markdown",
      "source": [
        "### Norma wektora w Rn"
      ],
      "metadata": {
        "id": "vzG2lVxzZPl7"
      }
    },
    {
      "cell_type": "code",
      "source": [
        "v2 = np.array([10, 8, 9])\n",
        "print(v2)\n",
        "print(np.linalg.norm(v2))"
      ],
      "metadata": {
        "colab": {
          "base_uri": "https://localhost:8080/"
        },
        "id": "Ob1LO8FxZUC1",
        "outputId": "b6d34b7a-9037-41f5-e30e-2bdbc919422b"
      },
      "execution_count": 54,
      "outputs": [
        {
          "output_type": "stream",
          "name": "stdout",
          "text": [
            "[10  8  9]\n",
            "15.652475842498529\n"
          ]
        }
      ]
    },
    {
      "cell_type": "markdown",
      "source": [
        "## **Odległość dwóch punktów na płaszczyźnie**"
      ],
      "metadata": {
        "id": "PUEIuaH9aKtA"
      }
    },
    {
      "cell_type": "code",
      "source": [
        "p1 = np.array([0, 4])\n",
        "p2 = np.array([3, 1])\n",
        "print('punkt p1: ' + str(p1))\n",
        "print('punkt p2: ' + str(p2))\n",
        "\n",
        "print('odległość: ' + str(np.linalg.norm(p1 - p2)))\n"
      ],
      "metadata": {
        "colab": {
          "base_uri": "https://localhost:8080/"
        },
        "id": "DbOYXu2KatBG",
        "outputId": "eacc4e9c-9af1-4285-f026-f8a18bbe117a"
      },
      "execution_count": 55,
      "outputs": [
        {
          "output_type": "stream",
          "name": "stdout",
          "text": [
            "punkt p1: [0 4]\n",
            "punkt p2: [3 1]\n",
            "odległość: 4.242640687119285\n"
          ]
        }
      ]
    },
    {
      "cell_type": "markdown",
      "source": [
        "### Odległość dwóch punktów na płaszczyźnie w Rn"
      ],
      "metadata": {
        "id": "Ta9V0GaXaYQE"
      }
    },
    {
      "cell_type": "code",
      "source": [
        "p1 = np.array([0, 4, 5])\n",
        "p2 = np.array([3, 1, 7])\n",
        "print('punkt p1: ' + str(p1))\n",
        "print('punkt p2: ' + str(p2))\n",
        "\n",
        "print('odległość: ' + str(np.linalg.norm(p1 - p2)))"
      ],
      "metadata": {
        "colab": {
          "base_uri": "https://localhost:8080/"
        },
        "id": "wWGqHac0af_o",
        "outputId": "154efd99-b31f-4dda-8fe2-1ab8892b93d6"
      },
      "execution_count": 56,
      "outputs": [
        {
          "output_type": "stream",
          "name": "stdout",
          "text": [
            "punkt p1: [0 4 5]\n",
            "punkt p2: [3 1 7]\n",
            "odległość: 4.69041575982343\n"
          ]
        }
      ]
    },
    {
      "cell_type": "markdown",
      "source": [
        "## **Mnożenie macierzy**"
      ],
      "metadata": {
        "id": "rv_fuvQlcCYa"
      }
    },
    {
      "cell_type": "markdown",
      "source": [
        "### Przykład nr1"
      ],
      "metadata": {
        "id": "NdNFealHd5Mz"
      }
    },
    {
      "cell_type": "code",
      "source": [
        "A = np.array([[5, 3], [3, 9]])\n",
        "B = np.array([[1], [-1]])\n",
        "print('A: \\n' + str(A))\n",
        "print('B: \\n' + str(B) + '\\n')\n",
        "print('Wynik mnożenia macierzy: \\n' + str(np.dot(A, B)))"
      ],
      "metadata": {
        "colab": {
          "base_uri": "https://localhost:8080/"
        },
        "id": "0CeHY0becKW8",
        "outputId": "b96318a2-9550-4c19-9cf8-ccf4fcab9df6"
      },
      "execution_count": 57,
      "outputs": [
        {
          "output_type": "stream",
          "name": "stdout",
          "text": [
            "A: \n",
            "[[5 3]\n",
            " [3 9]]\n",
            "B: \n",
            "[[ 1]\n",
            " [-1]]\n",
            "\n",
            "Wynik mnożenia macierzy: \n",
            "[[ 2]\n",
            " [-6]]\n"
          ]
        }
      ]
    },
    {
      "cell_type": "markdown",
      "source": [
        "### Przykład nr2"
      ],
      "metadata": {
        "id": "hxe0417Td9Hx"
      }
    },
    {
      "cell_type": "code",
      "source": [
        "A = np.array([[2 ,-1 ,3], [3, 1, 0]])\n",
        "B = np.array([[2, 1, -1], [0, -1, 2], [3, 2, 0]])\n",
        "\n",
        "print('A: \\n' + str(A))\n",
        "print('B: \\n' + str(B) + '\\n')\n",
        "print('Wynik mnożenia macierzy: \\n' + str(np.dot(A, B)))"
      ],
      "metadata": {
        "colab": {
          "base_uri": "https://localhost:8080/"
        },
        "id": "LdtkMnbJd_fX",
        "outputId": "3c236dae-ba9e-47e7-c99e-71ca7f8d0dec"
      },
      "execution_count": 58,
      "outputs": [
        {
          "output_type": "stream",
          "name": "stdout",
          "text": [
            "A: \n",
            "[[ 2 -1  3]\n",
            " [ 3  1  0]]\n",
            "B: \n",
            "[[ 2  1 -1]\n",
            " [ 0 -1  2]\n",
            " [ 3  2  0]]\n",
            "\n",
            "Wynik mnożenia macierzy: \n",
            "[[13  9 -4]\n",
            " [ 6  2 -1]]\n"
          ]
        }
      ]
    },
    {
      "cell_type": "markdown",
      "source": [
        "## **Wyznacznik macierzy**"
      ],
      "metadata": {
        "id": "ZFFnNGhggYS6"
      }
    },
    {
      "cell_type": "code",
      "source": [
        "A = np.array([[2,4],[-1,3]])\n",
        "print('A: \\n' + str(x) +'\\n')\n",
        "print('wyznacznik macierzy: ' + str(round(np.linalg.det(A))))"
      ],
      "metadata": {
        "colab": {
          "base_uri": "https://localhost:8080/"
        },
        "id": "EeZbNMh6gg_Q",
        "outputId": "1d71bc5e-60c2-4fcb-fcd8-38640a5f982f"
      },
      "execution_count": 59,
      "outputs": [
        {
          "output_type": "stream",
          "name": "stdout",
          "text": [
            "A: \n",
            "1\n",
            "\n",
            "wyznacznik macierzy: 10\n"
          ]
        }
      ]
    },
    {
      "cell_type": "markdown",
      "source": [
        "## **Ślad macierzy**"
      ],
      "metadata": {
        "id": "1MzBVKYqiDzy"
      }
    },
    {
      "cell_type": "markdown",
      "source": [
        "\n",
        "\n",
        "> Suma przekontnej w macierzy nxn (a11+a22+ann)\n",
        "\n"
      ],
      "metadata": {
        "id": "RGSqGbjzkwn6"
      }
    },
    {
      "cell_type": "code",
      "source": [
        "A = np.array([[2,4],[-1,3]])\n",
        "print('A: \\n' + str(A) +'\\n')\n",
        "print('ślad macierzy: ' + str(np.trace(A)))"
      ],
      "metadata": {
        "colab": {
          "base_uri": "https://localhost:8080/"
        },
        "id": "ZTDL4BrniGjl",
        "outputId": "b98b2c6b-c3a3-485a-b4ba-42e46b7b0e0e"
      },
      "execution_count": 60,
      "outputs": [
        {
          "output_type": "stream",
          "name": "stdout",
          "text": [
            "A: \n",
            "[[ 2  4]\n",
            " [-1  3]]\n",
            "\n",
            "ślad macierzy: 5\n"
          ]
        }
      ]
    },
    {
      "cell_type": "markdown",
      "source": [
        "## **Macierz jednostkowa**"
      ],
      "metadata": {
        "id": "912_ExkljJ1L"
      }
    },
    {
      "cell_type": "markdown",
      "source": [
        "\n",
        "> macież nxn , której przekontna jest równa 1\n",
        "\n"
      ],
      "metadata": {
        "id": "05zcaX5CkKi5"
      }
    },
    {
      "cell_type": "code",
      "source": [
        "A = np.eye(4, dtype='int')\n",
        "print('macierz jednostkowa 4x4: \\n' + str(A))"
      ],
      "metadata": {
        "colab": {
          "base_uri": "https://localhost:8080/"
        },
        "id": "UygZF2EZjOqF",
        "outputId": "5c369aae-c050-4ef1-9366-ae3558200916"
      },
      "execution_count": 61,
      "outputs": [
        {
          "output_type": "stream",
          "name": "stdout",
          "text": [
            "macierz jednostkowa 4x4: \n",
            "[[1 0 0 0]\n",
            " [0 1 0 0]\n",
            " [0 0 1 0]\n",
            " [0 0 0 1]]\n"
          ]
        }
      ]
    },
    {
      "cell_type": "markdown",
      "source": [
        "## **Macierz odwrotna**"
      ],
      "metadata": {
        "id": "5S_RKR8YlN-_"
      }
    },
    {
      "cell_type": "markdown",
      "source": [
        "> A - macierz kwadratowa stopnia n. Macierz A posiada macierz odwrotną, gdy istnieje macierz B, taka że: AB = Ba = I"
      ],
      "metadata": {
        "id": "WfhlYUlSlk1g"
      }
    },
    {
      "cell_type": "code",
      "source": [
        "A = np.array([[2, 4], [-1, 3]])\n",
        "print('A: \\n' + str(A) +'\\n')\n",
        "B = np.linalg.inv(A)\n",
        "print('macierz odwrotna: \\n' + str(B) +'\\n')\n",
        "\n",
        "np.set_printoptions(precision=4, suppress=True)  #ustawienia wyświetlania\n",
        "\n",
        "print('sprawdzenie AB: \\n' + str(np.dot(A, B)))\n",
        "print('sprawdzenie BA: \\n' + str(np.dot(B, A)))"
      ],
      "metadata": {
        "colab": {
          "base_uri": "https://localhost:8080/"
        },
        "id": "NtN-xgtolTmE",
        "outputId": "5ca13b65-0b0a-4577-c9e7-207cda8c47af"
      },
      "execution_count": 62,
      "outputs": [
        {
          "output_type": "stream",
          "name": "stdout",
          "text": [
            "A: \n",
            "[[ 2  4]\n",
            " [-1  3]]\n",
            "\n",
            "macierz odwrotna: \n",
            "[[ 0.3 -0.4]\n",
            " [ 0.1  0.2]]\n",
            "\n",
            "sprawdzenie AB: \n",
            "[[1. 0.]\n",
            " [0. 1.]]\n",
            "sprawdzenie BA: \n",
            "[[ 1. -0.]\n",
            " [ 0.  1.]]\n"
          ]
        }
      ]
    },
    {
      "cell_type": "markdown",
      "source": [
        "## **Macierz transponowana**"
      ],
      "metadata": {
        "id": "Wg-pr26_oPUc"
      }
    },
    {
      "cell_type": "markdown",
      "source": [
        "\n",
        "\n",
        "> Zmiana wierszy na kolumny i kolumn na wiersze\n",
        "\n"
      ],
      "metadata": {
        "id": "MggWvfcAoX26"
      }
    },
    {
      "cell_type": "markdown",
      "source": [
        "### Przykład nr1"
      ],
      "metadata": {
        "id": "RvMKf0PCpFz1"
      }
    },
    {
      "cell_type": "code",
      "source": [
        "A = np.array([[2, 4], [-1, 3]])\n",
        "print('A: \\n' + str(A) +'\\n')\n",
        "print('transponowana macierz: \\n' + str(np.transpose(A)))"
      ],
      "metadata": {
        "colab": {
          "base_uri": "https://localhost:8080/"
        },
        "id": "VFfDWlsmoVp1",
        "outputId": "34409db0-03c4-4cda-af81-6e1fbca63912"
      },
      "execution_count": 63,
      "outputs": [
        {
          "output_type": "stream",
          "name": "stdout",
          "text": [
            "A: \n",
            "[[ 2  4]\n",
            " [-1  3]]\n",
            "\n",
            "transponowana macierz: \n",
            "[[ 2 -1]\n",
            " [ 4  3]]\n"
          ]
        }
      ]
    },
    {
      "cell_type": "markdown",
      "source": [
        "### Przykład nr2"
      ],
      "metadata": {
        "id": "mA8l1rA3pLL-"
      }
    },
    {
      "cell_type": "code",
      "source": [
        "A = np.array([[2, 4, 1], [-1, 3, 7]])\n",
        "print('A: \\n' + str(A) +'\\n')\n",
        "print('transponowana macierz: \\n' + str(A.T))"
      ],
      "metadata": {
        "colab": {
          "base_uri": "https://localhost:8080/"
        },
        "id": "YsuEe8VYpQPZ",
        "outputId": "96ab424f-44ae-4f60-ea80-4741992a3345"
      },
      "execution_count": 64,
      "outputs": [
        {
          "output_type": "stream",
          "name": "stdout",
          "text": [
            "A: \n",
            "[[ 2  4  1]\n",
            " [-1  3  7]]\n",
            "\n",
            "transponowana macierz: \n",
            "[[ 2 -1]\n",
            " [ 4  3]\n",
            " [ 1  7]]\n"
          ]
        }
      ]
    },
    {
      "cell_type": "markdown",
      "source": [
        "## **Rozwiązywanie układów równań**"
      ],
      "metadata": {
        "id": "r_b-ya7WqZvW"
      }
    },
    {
      "cell_type": "markdown",
      "source": [
        "*   2x+4y=10\n",
        "*   x-y=-1"
      ],
      "metadata": {
        "id": "S4xhyL7JsEkX"
      }
    },
    {
      "cell_type": "code",
      "source": [
        "A = np.array([[2,4],[1,-1]])\n",
        "B = np.array([[10],[-1]])\n",
        "\n",
        "print('A: \\n' + str(A) +'\\n')\n",
        "print('B: \\n' + str(B) +'\\n')\n",
        "\n",
        "A_inv = np.linalg.inv(A)\n",
        "print('macierz odwrotna A: \\n' + str(A_inv) +'\\n')\n",
        "\n",
        "C = np.dot(A_inv, B)\n",
        "print('Wynik równania:')\n",
        "\n",
        "for i in range(len(C)):\n",
        "  if(i == 0):\n",
        "    print('x = ' + str(C[i]))\n",
        "  else:\n",
        "    print('y = ' + str(C[i]))"
      ],
      "metadata": {
        "colab": {
          "base_uri": "https://localhost:8080/"
        },
        "id": "sKtb6kdiqWkA",
        "outputId": "8a4992b1-9c4a-4acd-b08a-37160ec2dab1"
      },
      "execution_count": 65,
      "outputs": [
        {
          "output_type": "stream",
          "name": "stdout",
          "text": [
            "A: \n",
            "[[ 2  4]\n",
            " [ 1 -1]]\n",
            "\n",
            "B: \n",
            "[[10]\n",
            " [-1]]\n",
            "\n",
            "macierz odwrotna A: \n",
            "[[ 0.1667  0.6667]\n",
            " [ 0.1667 -0.3333]]\n",
            "\n",
            "Wynik równania:\n",
            "x = [1.]\n",
            "y = [2.]\n"
          ]
        }
      ]
    }
  ]
}