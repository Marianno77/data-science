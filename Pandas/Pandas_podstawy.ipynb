{
  "nbformat": 4,
  "nbformat_minor": 0,
  "metadata": {
    "colab": {
      "provenance": [],
      "toc_visible": true,
      "authorship_tag": "ABX9TyNGMfLtljOFsttQKnCpMTk1",
      "include_colab_link": true
    },
    "kernelspec": {
      "name": "python3",
      "display_name": "Python 3"
    },
    "language_info": {
      "name": "python"
    }
  },
  "cells": [
    {
      "cell_type": "markdown",
      "metadata": {
        "id": "view-in-github",
        "colab_type": "text"
      },
      "source": [
        "<a href=\"https://colab.research.google.com/github/Marianno77/data-science/blob/main/Pandas/Pandas_podstawy.ipynb\" target=\"_parent\"><img src=\"https://colab.research.google.com/assets/colab-badge.svg\" alt=\"Open In Colab\"/></a>"
      ]
    },
    {
      "cell_type": "markdown",
      "source": [
        "# **Pandas - podstawy**"
      ],
      "metadata": {
        "id": "SlkU8CbNrjww"
      }
    },
    {
      "cell_type": "markdown",
      "source": [
        "## import biblioteki"
      ],
      "metadata": {
        "id": "3SYDq2Ibr0Kh"
      }
    },
    {
      "cell_type": "code",
      "execution_count": 1,
      "metadata": {
        "colab": {
          "base_uri": "https://localhost:8080/",
          "height": 35
        },
        "id": "1Z-Z50LBq_R3",
        "outputId": "0cc793b3-c9fa-441c-ecff-f677905bcbb5"
      },
      "outputs": [
        {
          "output_type": "execute_result",
          "data": {
            "text/plain": [
              "'2.2.2'"
            ],
            "application/vnd.google.colaboratory.intrinsic+json": {
              "type": "string"
            }
          },
          "metadata": {},
          "execution_count": 1
        }
      ],
      "source": [
        "import pandas as pd\n",
        "pd.__version__"
      ]
    },
    {
      "cell_type": "markdown",
      "source": [
        "## Podstawowe struktury danych: pd.Series"
      ],
      "metadata": {
        "id": "FLlrz0b8r4Yu"
      }
    },
    {
      "cell_type": "code",
      "source": [
        "x = pd.Series(data=[3,2,4,6])\n",
        "print(x)"
      ],
      "metadata": {
        "colab": {
          "base_uri": "https://localhost:8080/"
        },
        "id": "uRD5FzapsEuy",
        "outputId": "01ab4add-0857-4a0f-d477-b038f4d157c9"
      },
      "execution_count": 2,
      "outputs": [
        {
          "output_type": "stream",
          "name": "stdout",
          "text": [
            "0    3\n",
            "1    2\n",
            "2    4\n",
            "3    6\n",
            "dtype: int64\n"
          ]
        }
      ]
    },
    {
      "cell_type": "code",
      "source": [
        "x = pd.Series(data=[3,2,4,6], index=['a','b','c','d'])\n",
        "print(x)"
      ],
      "metadata": {
        "colab": {
          "base_uri": "https://localhost:8080/"
        },
        "id": "CrTBT49ctoBl",
        "outputId": "b558aef2-d0e0-4583-9f27-a07ec481dfb7"
      },
      "execution_count": 3,
      "outputs": [
        {
          "output_type": "stream",
          "name": "stdout",
          "text": [
            "a    3\n",
            "b    2\n",
            "c    4\n",
            "d    6\n",
            "dtype: int64\n"
          ]
        }
      ]
    },
    {
      "cell_type": "code",
      "source": [
        "x = pd.Series(data=[3,2,4,6], index=['a','b','c','d'], name='ilosc')\n",
        "print(x)"
      ],
      "metadata": {
        "colab": {
          "base_uri": "https://localhost:8080/"
        },
        "id": "KVu8o-JktuC1",
        "outputId": "7a56f662-2095-49c7-8029-6680827ff727"
      },
      "execution_count": 4,
      "outputs": [
        {
          "output_type": "stream",
          "name": "stdout",
          "text": [
            "a    3\n",
            "b    2\n",
            "c    4\n",
            "d    6\n",
            "Name: ilosc, dtype: int64\n"
          ]
        }
      ]
    },
    {
      "cell_type": "code",
      "source": [
        "x = pd.Series(data=[3,2,4,6], index=['a','b','c','d'], name='ilosc')\n",
        "print(x.index)\n",
        "print('wartośći: ' + str(x.values))\n",
        "print('typ danych: ' + str(x.dtype))\n",
        "print('kształt: ' + str(x.shape))\n",
        "print('rozmiar' + str(x.size))\n",
        "print('wymiar: ' + str(x.ndim))\n",
        "print('nazwa: ' + x.name)"
      ],
      "metadata": {
        "colab": {
          "base_uri": "https://localhost:8080/"
        },
        "id": "DRONctrEtyKZ",
        "outputId": "b2c333ea-e767-48e7-d7ba-9f2605473ba4"
      },
      "execution_count": 17,
      "outputs": [
        {
          "output_type": "stream",
          "name": "stdout",
          "text": [
            "Index(['a', 'b', 'c', 'd'], dtype='object')\n",
            "wartośći: [3 2 4 6]\n",
            "typ danych: int64\n",
            "kształt: (4,)\n",
            "rozmiar4\n",
            "wymiar: 1\n",
            "nazwa: ilosc\n"
          ]
        }
      ]
    },
    {
      "cell_type": "code",
      "source": [
        "x = pd.Series(data=[3.2,2,4.1,6])\n",
        "print(x)"
      ],
      "metadata": {
        "colab": {
          "base_uri": "https://localhost:8080/"
        },
        "id": "VLjXChTFt_MV",
        "outputId": "00b9da6a-1197-4d75-c6ec-aa5fb4caf698"
      },
      "execution_count": 8,
      "outputs": [
        {
          "output_type": "stream",
          "name": "stdout",
          "text": [
            "0    3.2\n",
            "1    2.0\n",
            "2    4.1\n",
            "3    6.0\n",
            "dtype: float64\n"
          ]
        }
      ]
    },
    {
      "cell_type": "code",
      "source": [
        "import numpy as np\n",
        "print('brak danych: ' + str(np.nan)+ '\\n')\n",
        "\n",
        "x = pd.Series(data=[1,2,np.nan,3,4])\n",
        "print(x)"
      ],
      "metadata": {
        "colab": {
          "base_uri": "https://localhost:8080/"
        },
        "id": "cp5MKwm8vO4n",
        "outputId": "b4689765-ef43-4414-9a47-b972dbf03ee4"
      },
      "execution_count": 24,
      "outputs": [
        {
          "output_type": "stream",
          "name": "stdout",
          "text": [
            "brak danych: nan\n",
            "\n",
            "0    1.0\n",
            "1    2.0\n",
            "2    NaN\n",
            "3    3.0\n",
            "4    4.0\n",
            "dtype: float64\n"
          ]
        }
      ]
    },
    {
      "cell_type": "code",
      "source": [
        "x = pd.Series(data=np.arange(start=1,stop=21) ,index=pd.date_range(start='20241201',periods=20))\n",
        "print(x)"
      ],
      "metadata": {
        "colab": {
          "base_uri": "https://localhost:8080/"
        },
        "id": "gVZ3kl4uwBSr",
        "outputId": "f3accb99-1ff8-42d1-9f89-7e25f85de9e9"
      },
      "execution_count": 28,
      "outputs": [
        {
          "output_type": "stream",
          "name": "stdout",
          "text": [
            "2024-12-01     1\n",
            "2024-12-02     2\n",
            "2024-12-03     3\n",
            "2024-12-04     4\n",
            "2024-12-05     5\n",
            "2024-12-06     6\n",
            "2024-12-07     7\n",
            "2024-12-08     8\n",
            "2024-12-09     9\n",
            "2024-12-10    10\n",
            "2024-12-11    11\n",
            "2024-12-12    12\n",
            "2024-12-13    13\n",
            "2024-12-14    14\n",
            "2024-12-15    15\n",
            "2024-12-16    16\n",
            "2024-12-17    17\n",
            "2024-12-18    18\n",
            "2024-12-19    19\n",
            "2024-12-20    20\n",
            "Freq: D, dtype: int64\n"
          ]
        }
      ]
    },
    {
      "cell_type": "code",
      "source": [
        "x = pd.Series(data={'volvo': 1,'mazda': 2,'kia': 3,'ford':3,'citroen':np.nan})\n",
        "print(str(x) + '\\n')\n",
        "\n",
        "print(x['mazda'])\n",
        "print('\\n'+'ilość powtarzalnych danych: \\n'+ str(x.value_counts()))\n",
        "print('\\n'+'ilość powtarzalnych danych razem z nan: \\n'+ str(x.value_counts(dropna=False)))\n",
        "print('\\n'+'posortowanie: \\n' + str(x.sort_values(ascending=False)))\n",
        "print('\\n'+'podstawowe statystyki: \\n' + str(x.describe()))\n",
        "print('\\n'+'najwieksze dwie wartości: \\n' + str(x.nlargest(2)))\n",
        "print('\\n'+'najmniejsze trzy wartości: \\n' + str(x.nsmallest(3)))\n",
        "print('\\n'+'ranking: \\n'+str(x.rank()))\n",
        "print('\\n'+'braki danych: \\n' + str(x.isna()))"
      ],
      "metadata": {
        "colab": {
          "base_uri": "https://localhost:8080/"
        },
        "id": "a9Xgaf3Wy1q1",
        "outputId": "33910137-1c04-4d85-fc4d-7a98bd781c2f"
      },
      "execution_count": 51,
      "outputs": [
        {
          "output_type": "stream",
          "name": "stdout",
          "text": [
            "volvo      1.0\n",
            "mazda      2.0\n",
            "kia        3.0\n",
            "ford       3.0\n",
            "citroen    NaN\n",
            "dtype: float64\n",
            "\n",
            "2.0\n",
            "\n",
            "ilość powtarzalnych danych: \n",
            "3.0    2\n",
            "1.0    1\n",
            "2.0    1\n",
            "Name: count, dtype: int64\n",
            "\n",
            "ilość powtarzalnych danych razem z nan: \n",
            "3.0    2\n",
            "1.0    1\n",
            "2.0    1\n",
            "NaN    1\n",
            "Name: count, dtype: int64\n",
            "\n",
            "posortowanie: \n",
            "kia        3.0\n",
            "ford       3.0\n",
            "mazda      2.0\n",
            "volvo      1.0\n",
            "citroen    NaN\n",
            "dtype: float64\n",
            "\n",
            "podstawowe statystyki: \n",
            "count    4.000000\n",
            "mean     2.250000\n",
            "std      0.957427\n",
            "min      1.000000\n",
            "25%      1.750000\n",
            "50%      2.500000\n",
            "75%      3.000000\n",
            "max      3.000000\n",
            "dtype: float64\n",
            "\n",
            "najwieksze dwie wartości: \n",
            "kia     3.0\n",
            "ford    3.0\n",
            "dtype: float64\n",
            "\n",
            "najmniejsze trzy wartości: \n",
            "volvo    1.0\n",
            "mazda    2.0\n",
            "kia      3.0\n",
            "dtype: float64\n",
            "\n",
            "ranking: \n",
            "volvo      1.0\n",
            "mazda      2.0\n",
            "kia        3.5\n",
            "ford       3.5\n",
            "citroen    NaN\n",
            "dtype: float64\n",
            "\n",
            "braki danych: \n",
            "volvo      False\n",
            "mazda      False\n",
            "kia        False\n",
            "ford       False\n",
            "citroen     True\n",
            "dtype: bool\n"
          ]
        }
      ]
    },
    {
      "cell_type": "code",
      "source": [
        "x = pd.Series(data={'volvo': 1,'mazda': 2,'kia': 3,'ford':3,'citroen':np.nan})\n",
        "\n",
        "print('standardowe wartości: \\n' + str(x) + '\\n')\n",
        "print('podwojone wartości: \\n' + str(x.apply(lambda x: x*2))+ '\\n')\n",
        "\n",
        "print(str(x) + '\\n')\n",
        "x = x.apply(lambda x: x*2)\n",
        "print(str(x) + '\\n')\n"
      ],
      "metadata": {
        "colab": {
          "base_uri": "https://localhost:8080/"
        },
        "id": "PzG-fvS74iup",
        "outputId": "84050e0b-b917-4a49-8c0f-709dac318a1f"
      },
      "execution_count": 62,
      "outputs": [
        {
          "output_type": "stream",
          "name": "stdout",
          "text": [
            "standardowe wartości: \n",
            "volvo      1.0\n",
            "mazda      2.0\n",
            "kia        3.0\n",
            "ford       3.0\n",
            "citroen    NaN\n",
            "dtype: float64\n",
            "\n",
            "podwojone wartości: \n",
            "volvo      2.0\n",
            "mazda      4.0\n",
            "kia        6.0\n",
            "ford       6.0\n",
            "citroen    NaN\n",
            "dtype: float64\n",
            "\n",
            "volvo      1.0\n",
            "mazda      2.0\n",
            "kia        3.0\n",
            "ford       3.0\n",
            "citroen    NaN\n",
            "dtype: float64\n",
            "\n",
            "volvo      2.0\n",
            "mazda      4.0\n",
            "kia        6.0\n",
            "ford       6.0\n",
            "citroen    NaN\n",
            "dtype: float64\n",
            "\n"
          ]
        }
      ]
    },
    {
      "cell_type": "markdown",
      "source": [
        "## Podstawowe struktury danych: pd.DataFrame"
      ],
      "metadata": {
        "id": "Mf5tEAALsFPy"
      }
    },
    {
      "cell_type": "code",
      "source": [
        "x = pd.DataFrame(data=[1,2,3,4])\n",
        "print(x)"
      ],
      "metadata": {
        "colab": {
          "base_uri": "https://localhost:8080/"
        },
        "id": "9HVkgYuXsQLU",
        "outputId": "4e510258-58ef-4db1-dfac-29d8ad1298c0"
      },
      "execution_count": 63,
      "outputs": [
        {
          "output_type": "stream",
          "name": "stdout",
          "text": [
            "   0\n",
            "0  1\n",
            "1  2\n",
            "2  3\n",
            "3  4\n"
          ]
        }
      ]
    },
    {
      "cell_type": "code",
      "source": [
        "x = pd.DataFrame(data=[1,2,3], index=['jeden','dwa','trzy'], columns=['A'])\n",
        "print(x)"
      ],
      "metadata": {
        "colab": {
          "base_uri": "https://localhost:8080/"
        },
        "id": "xM7W53h06-yo",
        "outputId": "e451401f-8ee9-411e-e441-77337959669e"
      },
      "execution_count": 65,
      "outputs": [
        {
          "output_type": "stream",
          "name": "stdout",
          "text": [
            "       A\n",
            "jeden  1\n",
            "dwa    2\n",
            "trzy   3\n"
          ]
        }
      ]
    },
    {
      "cell_type": "code",
      "source": [
        "x = pd.DataFrame(data={'KIA': ['ceed','sportage','rio'],\n",
        "                       'FIAT': ['bravo','panda','tipo'],\n",
        "                       'FORD': ['focus','fiesta','mondeo']})\n",
        "\n",
        "print(x)"
      ],
      "metadata": {
        "colab": {
          "base_uri": "https://localhost:8080/"
        },
        "id": "-kOCLJkR7f0r",
        "outputId": "eb0d6d93-9bcf-4441-dc55-35285540676e"
      },
      "execution_count": 68,
      "outputs": [
        {
          "output_type": "stream",
          "name": "stdout",
          "text": [
            "        KIA   FIAT    FORD\n",
            "0      ceed  bravo   focus\n",
            "1  sportage  panda  fiesta\n",
            "2       rio   tipo  mondeo\n"
          ]
        }
      ]
    },
    {
      "cell_type": "code",
      "source": [
        "x = pd.DataFrame(data=[[10,15,20],[20,25,30]], index=['Jeden','Dwa'], columns=['A','B','C'])\n",
        "print(x)\n",
        "\n",
        "print('\\n' + str(x.info()))\n",
        "print('\\n' + str(x.describe()))"
      ],
      "metadata": {
        "colab": {
          "base_uri": "https://localhost:8080/"
        },
        "id": "G7BqF0jD8uWk",
        "outputId": "ac7b14c3-9ee5-4f91-becb-73186fc70f6d"
      },
      "execution_count": 82,
      "outputs": [
        {
          "output_type": "stream",
          "name": "stdout",
          "text": [
            "        A   B   C\n",
            "Jeden  10  15  20\n",
            "Dwa    20  25  30\n",
            "<class 'pandas.core.frame.DataFrame'>\n",
            "Index: 2 entries, Jeden to Dwa\n",
            "Data columns (total 3 columns):\n",
            " #   Column  Non-Null Count  Dtype\n",
            "---  ------  --------------  -----\n",
            " 0   A       2 non-null      int64\n",
            " 1   B       2 non-null      int64\n",
            " 2   C       2 non-null      int64\n",
            "dtypes: int64(3)\n",
            "memory usage: 64.0+ bytes\n",
            "\n",
            "None\n",
            "\n",
            "               A          B          C\n",
            "count   2.000000   2.000000   2.000000\n",
            "mean   15.000000  20.000000  25.000000\n",
            "std     7.071068   7.071068   7.071068\n",
            "min    10.000000  15.000000  20.000000\n",
            "25%    12.500000  17.500000  22.500000\n",
            "50%    15.000000  20.000000  25.000000\n",
            "75%    17.500000  22.500000  27.500000\n",
            "max    20.000000  25.000000  30.000000\n"
          ]
        }
      ]
    },
    {
      "cell_type": "markdown",
      "source": [
        "## selekcja kolumn"
      ],
      "metadata": {
        "id": "-NFyCQ3oAIi-"
      }
    },
    {
      "cell_type": "code",
      "source": [
        "x = pd.DataFrame(data=[[10,15,20],[20,25,30]], index=['Jeden','Dwa'], columns=['A','B','C'])\n",
        "print(x)\n",
        "\n",
        "print('\\n'+ str(x['B']))\n",
        "print('\\n' + str(x.C))\n",
        "\n",
        "x['D'] = x.A+x.B+x.C\n",
        "\n",
        "print('\\n'+str(x))\n",
        "\n",
        "print('\\n'+str(x.loc['Dwa']))\n",
        "print('\\n'+str(x.iloc[1]))\n",
        "print('\\n'+str(x.loc['Dwa','B']))"
      ],
      "metadata": {
        "colab": {
          "base_uri": "https://localhost:8080/"
        },
        "id": "6oICXIlfBA93",
        "outputId": "91fd7645-49e6-41fe-dca9-bc252ee24028"
      },
      "execution_count": 98,
      "outputs": [
        {
          "output_type": "stream",
          "name": "stdout",
          "text": [
            "        A   B   C\n",
            "Jeden  10  15  20\n",
            "Dwa    20  25  30\n",
            "\n",
            "Jeden    15\n",
            "Dwa      25\n",
            "Name: B, dtype: int64\n",
            "\n",
            "Jeden    20\n",
            "Dwa      30\n",
            "Name: C, dtype: int64\n",
            "\n",
            "        A   B   C   D\n",
            "Jeden  10  15  20  45\n",
            "Dwa    20  25  30  75\n",
            "\n",
            "A    20\n",
            "B    25\n",
            "C    30\n",
            "D    75\n",
            "Name: Dwa, dtype: int64\n",
            "\n",
            "A    20\n",
            "B    25\n",
            "C    30\n",
            "D    75\n",
            "Name: Dwa, dtype: int64\n",
            "\n",
            "25\n"
          ]
        }
      ]
    }
  ]
}