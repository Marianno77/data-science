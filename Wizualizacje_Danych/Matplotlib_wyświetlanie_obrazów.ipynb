{
  "nbformat": 4,
  "nbformat_minor": 0,
  "metadata": {
    "colab": {
      "provenance": [],
      "toc_visible": true,
      "authorship_tag": "ABX9TyMtjgEBwrb6syRf4S4JLx+j",
      "include_colab_link": true
    },
    "kernelspec": {
      "name": "python3",
      "display_name": "Python 3"
    },
    "language_info": {
      "name": "python"
    }
  },
  "cells": [
    {
      "cell_type": "markdown",
      "metadata": {
        "id": "view-in-github",
        "colab_type": "text"
      },
      "source": [
        "<a href=\"https://colab.research.google.com/github/Marianno77/data-science/blob/main/Wizualizacje_Danych/Matplotlib_wy%C5%9Bwietlanie_obraz%C3%B3w.ipynb\" target=\"_parent\"><img src=\"https://colab.research.google.com/assets/colab-badge.svg\" alt=\"Open In Colab\"/></a>"
      ]
    },
    {
      "cell_type": "markdown",
      "source": [
        "# **Matplotlib - wyświetlanie obrazów**"
      ],
      "metadata": {
        "id": "gBl6aMsA_8rd"
      }
    },
    {
      "cell_type": "markdown",
      "source": [
        "## Import bibliotek"
      ],
      "metadata": {
        "id": "GkUASnIdAIKA"
      }
    },
    {
      "cell_type": "code",
      "source": [
        "import matplotlib.pyplot as plt\n",
        "import matplotlib.image as mpimg"
      ],
      "metadata": {
        "id": "IYH_I0d6AHnx"
      },
      "execution_count": 20,
      "outputs": []
    },
    {
      "cell_type": "markdown",
      "source": [
        "## wczytanie i wyświetlenie obrazu"
      ],
      "metadata": {
        "id": "6RiizD2lHCJW"
      }
    },
    {
      "cell_type": "code",
      "source": [
        "img_blue = mpimg.imread('blue.jpg')\n",
        "img_blue"
      ],
      "metadata": {
        "colab": {
          "base_uri": "https://localhost:8080/",
          "height": 440
        },
        "id": "Lxp2UUiPBV-b",
        "outputId": "6e54b646-7581-49af-f8b7-81bdf2910d2f"
      },
      "execution_count": 21,
      "outputs": [
        {
          "output_type": "execute_result",
          "data": {
            "text/plain": [
              "array([[[  0,  57, 121],\n",
              "        [  0,  57, 121],\n",
              "        [  0,  57, 121],\n",
              "        ...,\n",
              "        [  0,  57, 121],\n",
              "        [  0,  57, 121],\n",
              "        [  0,  57, 121]],\n",
              "\n",
              "       [[  0,  57, 121],\n",
              "        [  0,  57, 121],\n",
              "        [  0,  57, 121],\n",
              "        ...,\n",
              "        [  0,  57, 121],\n",
              "        [  0,  57, 121],\n",
              "        [  0,  57, 121]],\n",
              "\n",
              "       [[  0,  57, 121],\n",
              "        [  0,  57, 121],\n",
              "        [  0,  57, 121],\n",
              "        ...,\n",
              "        [  0,  57, 121],\n",
              "        [  0,  57, 121],\n",
              "        [  0,  57, 121]],\n",
              "\n",
              "       ...,\n",
              "\n",
              "       [[  0,  57, 121],\n",
              "        [  0,  57, 121],\n",
              "        [  0,  57, 121],\n",
              "        ...,\n",
              "        [  0,  57, 121],\n",
              "        [  0,  57, 121],\n",
              "        [  0,  57, 121]],\n",
              "\n",
              "       [[  0,  57, 121],\n",
              "        [  0,  57, 121],\n",
              "        [  0,  57, 121],\n",
              "        ...,\n",
              "        [  0,  57, 121],\n",
              "        [  0,  57, 121],\n",
              "        [  0,  57, 121]],\n",
              "\n",
              "       [[  0,  57, 121],\n",
              "        [  0,  57, 121],\n",
              "        [  0,  57, 121],\n",
              "        ...,\n",
              "        [  0,  57, 121],\n",
              "        [  0,  57, 121],\n",
              "        [  0,  57, 121]]], dtype=uint8)"
            ],
            "text/html": [
              "<style>\n",
              "      .ndarray_repr .ndarray_raw_data {\n",
              "        display: none;\n",
              "      }\n",
              "      .ndarray_repr.show_array .ndarray_raw_data {\n",
              "        display: block;\n",
              "      }\n",
              "      .ndarray_repr.show_array .ndarray_image_preview {\n",
              "        display: none;\n",
              "      }\n",
              "      </style>\n",
              "      <div id=\"id-18864f89-7022-410a-8e26-2d0cefd258b9\" class=\"ndarray_repr\"><pre>ndarray (400, 500, 3) <button style=\"padding: 0 2px;\">show data</button></pre><img src=\"data:image/png;base64,iVBORw0KGgoAAAANSUhEUgAAAfQAAAGQCAIAAADX0QWRAAAFl0lEQVR4nO3UQQkAIADAQLWV0WxvCUEYdwn22hz7DABa1u8AAN4zd4AgcwcIMneAIHMHCDJ3gCBzBwgyd4AgcwcIMneAIHMHCDJ3gCBzBwgyd4AgcwcIMneAIHMHCDJ3gCBzBwgyd4AgcwcIMneAIHMHCDJ3gCBzBwgyd4AgcwcIMneAIHMHCDJ3gCBzBwgyd4AgcwcIMneAIHMHCDJ3gCBzBwgyd4AgcwcIMneAIHMHCDJ3gCBzBwgyd4AgcwcIMneAIHMHCDJ3gCBzBwgyd4AgcwcIMneAIHMHCDJ3gCBzBwgyd4AgcwcIMneAIHMHCDJ3gCBzBwgyd4AgcwcIMneAIHMHCDJ3gCBzBwgyd4AgcwcIMneAIHMHCDJ3gCBzBwgyd4AgcwcIMneAIHMHCDJ3gCBzBwgyd4AgcwcIMneAIHMHCDJ3gCBzBwgyd4AgcwcIMneAIHMHCDJ3gCBzBwgyd4AgcwcIMneAIHMHCDJ3gCBzBwgyd4AgcwcIMneAIHMHCDJ3gCBzBwgyd4AgcwcIMneAIHMHCDJ3gCBzBwgyd4AgcwcIMneAIHMHCDJ3gCBzBwgyd4AgcwcIMneAIHMHCDJ3gCBzBwgyd4AgcwcIMneAIHMHCDJ3gCBzBwgyd4AgcwcIMneAIHMHCDJ3gCBzBwgyd4AgcwcIMneAIHMHCDJ3gCBzBwgyd4AgcwcIMneAIHMHCDJ3gCBzBwgyd4AgcwcIMneAIHMHCDJ3gCBzBwgyd4AgcwcIMneAIHMHCDJ3gCBzBwgyd4AgcwcIMneAIHMHCDJ3gCBzBwgyd4AgcwcIMneAIHMHCDJ3gCBzBwgyd4AgcwcIMneAIHMHCDJ3gCBzBwgyd4AgcwcIMneAIHMHCDJ3gCBzBwgyd4AgcwcIMneAIHMHCDJ3gCBzBwgyd4AgcwcIMneAIHMHCDJ3gCBzBwgyd4AgcwcIMneAIHMHCDJ3gCBzBwgyd4AgcwcIMneAIHMHCDJ3gCBzBwgyd4AgcwcIMneAIHMHCDJ3gCBzBwgyd4AgcwcIMneAIHMHCDJ3gCBzBwgyd4AgcwcIMneAIHMHCDJ3gCBzBwgyd4AgcwcIMneAIHMHCDJ3gCBzBwgyd4AgcwcIMneAIHMHCDJ3gCBzBwgyd4AgcwcIMneAIHMHCDJ3gCBzBwgyd4AgcwcIMneAIHMHCDJ3gCBzBwgyd4AgcwcIMneAIHMHCDJ3gCBzBwgyd4AgcwcIMneAIHMHCDJ3gCBzBwgyd4AgcwcIMneAIHMHCDJ3gCBzBwgyd4AgcwcIMneAIHMHCDJ3gCBzBwgyd4AgcwcIMneAIHMHCDJ3gCBzBwgyd4AgcwcIMneAIHMHCDJ3gCBzBwgyd4AgcwcIMneAIHMHCDJ3gCBzBwgyd4AgcwcIMneAIHMHCDJ3gCBzBwgyd4AgcwcIMneAIHMHCDJ3gCBzBwgyd4AgcwcIMneAIHMHCDJ3gCBzBwgyd4AgcwcIMneAIHMHCDJ3gCBzBwgyd4AgcwcIMneAIHMHCDJ3gCBzBwgyd4AgcwcIMneAIHMHCDJ3gCBzBwgyd4AgcwcIMneAIHMHCDJ3gCBzBwgyd4AgcwcIMneAIHMHCDJ3gCBzBwgyd4AgcwcIMneAIHMHCDJ3gCBzBwgyd4AgcwcIMneAIHMHCDJ3gCBzBwgyd4AgcwcIMneAIHMHCDJ3gCBzBwgyd4AgcwcIMneAIHMHCDJ3gCBzBwgyd4AgcwcIMneAIHMHCDJ3gCBzBwgyd4AgcwcIMneAIHMHCDJ3gCBzBwgyd4AgcwcIMneAIHMHCDJ3gCBzBwgyd4AgcwcIMneAIHMHCDJ3gCBzBwgyd4AgcwcIMneAIHMHCDJ3gCBzBwgyd4AgcwcIMneAIHMHCDJ3gCBzBwgyd4AgcwcIuqTqA9KGA8UjAAAAAElFTkSuQmCC\" class=\"ndarray_image_preview\" /><pre class=\"ndarray_raw_data\">array([[[  0,  57, 121],\n",
              "        [  0,  57, 121],\n",
              "        [  0,  57, 121],\n",
              "        ...,\n",
              "        [  0,  57, 121],\n",
              "        [  0,  57, 121],\n",
              "        [  0,  57, 121]],\n",
              "\n",
              "       [[  0,  57, 121],\n",
              "        [  0,  57, 121],\n",
              "        [  0,  57, 121],\n",
              "        ...,\n",
              "        [  0,  57, 121],\n",
              "        [  0,  57, 121],\n",
              "        [  0,  57, 121]],\n",
              "\n",
              "       [[  0,  57, 121],\n",
              "        [  0,  57, 121],\n",
              "        [  0,  57, 121],\n",
              "        ...,\n",
              "        [  0,  57, 121],\n",
              "        [  0,  57, 121],\n",
              "        [  0,  57, 121]],\n",
              "\n",
              "       ...,\n",
              "\n",
              "       [[  0,  57, 121],\n",
              "        [  0,  57, 121],\n",
              "        [  0,  57, 121],\n",
              "        ...,\n",
              "        [  0,  57, 121],\n",
              "        [  0,  57, 121],\n",
              "        [  0,  57, 121]],\n",
              "\n",
              "       [[  0,  57, 121],\n",
              "        [  0,  57, 121],\n",
              "        [  0,  57, 121],\n",
              "        ...,\n",
              "        [  0,  57, 121],\n",
              "        [  0,  57, 121],\n",
              "        [  0,  57, 121]],\n",
              "\n",
              "       [[  0,  57, 121],\n",
              "        [  0,  57, 121],\n",
              "        [  0,  57, 121],\n",
              "        ...,\n",
              "        [  0,  57, 121],\n",
              "        [  0,  57, 121],\n",
              "        [  0,  57, 121]]], dtype=uint8)</pre></div><script>\n",
              "      (() => {\n",
              "      const titles = ['show data', 'hide data'];\n",
              "      let index = 0\n",
              "      document.querySelector('#id-18864f89-7022-410a-8e26-2d0cefd258b9 button').onclick = (e) => {\n",
              "        document.querySelector('#id-18864f89-7022-410a-8e26-2d0cefd258b9').classList.toggle('show_array');\n",
              "        index = (++index) % 2;\n",
              "        document.querySelector('#id-18864f89-7022-410a-8e26-2d0cefd258b9 button').textContent = titles[index];\n",
              "        e.preventDefault();\n",
              "        e.stopPropagation();\n",
              "      }\n",
              "      })();\n",
              "    </script>"
            ]
          },
          "metadata": {},
          "execution_count": 21
        }
      ]
    },
    {
      "cell_type": "code",
      "source": [
        "img_blue.shape"
      ],
      "metadata": {
        "colab": {
          "base_uri": "https://localhost:8080/"
        },
        "id": "GvgHY6bHB7HS",
        "outputId": "ea3cb6c3-4b3d-4379-8c35-50aae1257c72"
      },
      "execution_count": 22,
      "outputs": [
        {
          "output_type": "execute_result",
          "data": {
            "text/plain": [
              "(400, 500, 3)"
            ]
          },
          "metadata": {},
          "execution_count": 22
        }
      ]
    },
    {
      "cell_type": "code",
      "source": [
        "plt.imshow(img_blue)"
      ],
      "metadata": {
        "colab": {
          "base_uri": "https://localhost:8080/",
          "height": 452
        },
        "id": "gNYuhcujCNpS",
        "outputId": "bda8b541-0fb4-446b-f64a-53a18881e246"
      },
      "execution_count": 23,
      "outputs": [
        {
          "output_type": "execute_result",
          "data": {
            "text/plain": [
              "<matplotlib.image.AxesImage at 0x7dcbfad99000>"
            ]
          },
          "metadata": {},
          "execution_count": 23
        },
        {
          "output_type": "display_data",
          "data": {
            "text/plain": [
              "<Figure size 640x480 with 1 Axes>"
            ],
            "image/png": "[encoded data removed]"
          },
          "metadata": {}
        }
      ]
    },
    {
      "cell_type": "code",
      "source": [
        "plt.imshow(img_blue)\n",
        "plt.axis('off')"
      ],
      "metadata": {
        "colab": {
          "base_uri": "https://localhost:8080/",
          "height": 423
        },
        "id": "QUwy2LvkCYva",
        "outputId": "12b25593-e7bd-42a1-8c65-e95dd43364db"
      },
      "execution_count": 24,
      "outputs": [
        {
          "output_type": "execute_result",
          "data": {
            "text/plain": [
              "(-0.5, 499.5, 399.5, -0.5)"
            ]
          },
          "metadata": {},
          "execution_count": 24
        },
        {
          "output_type": "display_data",
          "data": {
            "text/plain": [
              "<Figure size 640x480 with 1 Axes>"
            ],
            "image/png": "[encoded data removed]"
          },
          "metadata": {}
        }
      ]
    },
    {
      "cell_type": "markdown",
      "source": [
        "## Wyświetlanie paru obrazów naraz"
      ],
      "metadata": {
        "id": "px9OOSqfHJ3a"
      }
    },
    {
      "cell_type": "code",
      "source": [
        "img_green = mpimg.imread('green.jpg')\n",
        "img_orange = mpimg.imread('orange.jpg')\n",
        "img_red = mpimg.imread('red.jpg')\n",
        "\n",
        "fig = plt.figure(figsize=(10, 10))\n",
        "\n",
        "plt.subplot(2, 2, 1)\n",
        "plt.imshow(img_blue)\n",
        "\n",
        "plt.subplot(2, 2, 2)\n",
        "plt.imshow(img_green)\n",
        "\n",
        "plt.subplot(2, 2, 3)\n",
        "plt.imshow(img_orange)\n",
        "\n",
        "plt.subplot(2, 2, 4)\n",
        "plt.imshow(img_red)\n"
      ],
      "metadata": {
        "colab": {
          "base_uri": "https://localhost:8080/",
          "height": 784
        },
        "id": "AG5zVGa7CjdR",
        "outputId": "9fb4983a-c458-4c2b-8e07-2585be0c7f3f"
      },
      "execution_count": 25,
      "outputs": [
        {
          "output_type": "execute_result",
          "data": {
            "text/plain": [
              "<matplotlib.image.AxesImage at 0x7dcbfe5556c0>"
            ]
          },
          "metadata": {},
          "execution_count": 25
        },
        {
          "output_type": "display_data",
          "data": {
            "text/plain": [
              "<Figure size 1000x1000 with 4 Axes>"
            ],
            "image/png": "[encoded data removed]"
          },
          "metadata": {}
        }
      ]
    },
    {
      "cell_type": "code",
      "source": [
        "fig = plt.figure(figsize=(10, 10))\n",
        "\n",
        "for id , img in enumerate(['blue', 'green', 'orange', 'red']):\n",
        "    plt.subplot(2, 2, id + 1)\n",
        "    plt.imshow(mpimg.imread(f'{img}.jpg'))\n",
        "    plt.axis('off')"
      ],
      "metadata": {
        "colab": {
          "base_uri": "https://localhost:8080/",
          "height": 738
        },
        "id": "aINSUg0jEzGh",
        "outputId": "0fcb36de-b6de-43d7-ee9a-326cd6bf4d16"
      },
      "execution_count": 39,
      "outputs": [
        {
          "output_type": "display_data",
          "data": {
            "text/plain": [
              "<Figure size 1000x1000 with 4 Axes>"
            ],
            "image/png": "[encoded data removed]"
          },
          "metadata": {}
        }
      ]
    },
    {
      "cell_type": "code",
      "source": [
        "fig = plt.figure(figsize=(10, 10))\n",
        "\n",
        "for id , img in enumerate(['blue', 'green', 'orange', 'red']):\n",
        "    plt.subplot(1, 4, id + 1)\n",
        "    plt.imshow(mpimg.imread(f'{img}.jpg'))\n",
        "    plt.axis('off')"
      ],
      "metadata": {
        "colab": {
          "base_uri": "https://localhost:8080/",
          "height": 171
        },
        "id": "Jnpz0URHGi8A",
        "outputId": "1c505ffa-08a3-44be-df1a-dbf70b6fc947"
      },
      "execution_count": 38,
      "outputs": [
        {
          "output_type": "display_data",
          "data": {
            "text/plain": [
              "<Figure size 1000x1000 with 4 Axes>"
            ],
            "image/png": "[encoded data removed]"
          },
          "metadata": {}
        }
      ]
    }
  ]
}