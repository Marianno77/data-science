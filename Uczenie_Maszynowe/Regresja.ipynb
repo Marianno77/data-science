{
  "nbformat": 4,
  "nbformat_minor": 0,
  "metadata": {
    "colab": {
      "provenance": [],
      "toc_visible": true,
      "authorship_tag": "ABX9TyMAeRD2EklpIPaL4t7yfcVw",
      "include_colab_link": true
    },
    "kernelspec": {
      "name": "python3",
      "display_name": "Python 3"
    },
    "language_info": {
      "name": "python"
    }
  },
  "cells": [
    {
      "cell_type": "markdown",
      "metadata": {
        "id": "view-in-github",
        "colab_type": "text"
      },
      "source": [
        "<a href=\"https://colab.research.google.com/github/Marianno77/data-science/blob/main/Uczenie_Maszynowe/Regresja.ipynb\" target=\"_parent\"><img src=\"https://colab.research.google.com/assets/colab-badge.svg\" alt=\"Open In Colab\"/></a>"
      ]
    },
    {
      "cell_type": "markdown",
      "source": [
        "# **Regresja**\n",
        "\n"
      ],
      "metadata": {
        "id": "HIKKUaeJCcZO"
      }
    },
    {
      "cell_type": "markdown",
      "source": [
        "## Import bibliotek"
      ],
      "metadata": {
        "id": "LpoWlCBBCnGM"
      }
    },
    {
      "cell_type": "code",
      "execution_count": 51,
      "metadata": {
        "id": "60mjXrYFCbMt"
      },
      "outputs": [],
      "source": [
        "import numpy as np\n",
        "import pandas as pd\n",
        "import plotly.express as px\n",
        "import plotly.graph_objects as go\n",
        "\n",
        "from sklearn.metrics import mean_absolute_error\n",
        "\n",
        "from sklearn.metrics import mean_squared_error\n",
        "\n",
        "from sklearn.metrics import max_error\n",
        "\n",
        "from sklearn.metrics import r2_score"
      ]
    },
    {
      "cell_type": "code",
      "source": [
        "y_true = 100 + 20 * np.random.randn(50)\n",
        "y_true"
      ],
      "metadata": {
        "colab": {
          "base_uri": "https://localhost:8080/"
        },
        "id": "d4lrD-hlEqUT",
        "outputId": "35859816-1069-4244-d775-86a504ab11dc"
      },
      "execution_count": 6,
      "outputs": [
        {
          "output_type": "execute_result",
          "data": {
            "text/plain": [
              "array([ 72.60291725, 142.91602966,  77.31694953, 101.530621  ,\n",
              "        95.77176465, 116.55553131, 147.53531935, 106.64600329,\n",
              "        46.05305819, 100.36511054, 130.16624685,  57.00226332,\n",
              "       104.36443634,  78.66298027,  93.40378286, 123.38892433,\n",
              "        64.73942438,  99.80904971, 109.02183315, 112.27121648,\n",
              "        69.53535447, 101.08444095, 129.23014386, 127.87388881,\n",
              "       125.66874897,  95.05395555, 117.11756268, 113.9151273 ,\n",
              "       117.25310689, 113.42828712,  95.99974902,  86.72749164,\n",
              "        88.13071654, 106.49357961, 105.83123544,  72.36548625,\n",
              "       104.27491203, 117.56638203,  84.28959157, 107.8216384 ,\n",
              "        90.07140028, 134.0785775 , 151.50618906,  99.58613381,\n",
              "       108.98319903,  95.24659182, 107.25633749, 111.32770577,\n",
              "       118.23179595, 103.97328739])"
            ]
          },
          "metadata": {},
          "execution_count": 6
        }
      ]
    },
    {
      "cell_type": "code",
      "source": [
        "y_pred = y_true + 10 * np.random.randn(50)\n",
        "y_pred"
      ],
      "metadata": {
        "colab": {
          "base_uri": "https://localhost:8080/"
        },
        "id": "vTG7Ur4bFKAn",
        "outputId": "eac59832-b755-487e-e521-7d1389b82627"
      },
      "execution_count": 8,
      "outputs": [
        {
          "output_type": "execute_result",
          "data": {
            "text/plain": [
              "array([ 53.15291408, 153.63014581,  85.1872851 ,  95.70130726,\n",
              "        99.86616873, 117.09038905, 159.88364916,  93.04584393,\n",
              "        36.44765113,  92.82969692, 134.25422874,  58.03922499,\n",
              "        97.70005819, 100.24412261,  84.28243401, 122.06967198,\n",
              "        63.42264931,  98.50160007, 115.84422019, 120.64938887,\n",
              "        65.49180762, 112.656292  , 127.51442585, 135.93662434,\n",
              "       128.09332127,  96.42899692,  95.39642813, 133.43233956,\n",
              "       118.34983907, 120.59039478,  94.62665302,  86.08517082,\n",
              "       109.14941683, 102.25750074,  82.2763761 ,  67.58584191,\n",
              "       102.7548826 , 102.90254782,  79.18427141, 120.60172949,\n",
              "        98.74499634, 139.31852041, 151.57686747, 119.52326107,\n",
              "       106.2327427 , 104.01286912, 103.24879865, 120.10772483,\n",
              "       129.71757916, 108.41506359])"
            ]
          },
          "metadata": {},
          "execution_count": 8
        }
      ]
    },
    {
      "cell_type": "code",
      "source": [
        "results = pd.DataFrame({'y_true': y_true, 'y_pred': y_pred})\n",
        "results.head()"
      ],
      "metadata": {
        "colab": {
          "base_uri": "https://localhost:8080/",
          "height": 206
        },
        "id": "Vb2o3IvwFk6U",
        "outputId": "41e42db5-e625-496e-e974-62e73ea8c808"
      },
      "execution_count": 15,
      "outputs": [
        {
          "output_type": "execute_result",
          "data": {
            "text/plain": [
              "       y_true      y_pred\n",
              "0   72.602917   53.152914\n",
              "1  142.916030  153.630146\n",
              "2   77.316950   85.187285\n",
              "3  101.530621   95.701307\n",
              "4   95.771765   99.866169"
            ],
            "text/html": [
              "\n",
              "  <div id=\"df-b9433709-a8eb-4751-a057-50988a40e1a5\" class=\"colab-df-container\">\n",
              "    <div>\n",
              "<style scoped>\n",
              "    .dataframe tbody tr th:only-of-type {\n",
              "        vertical-align: middle;\n",
              "    }\n",
              "\n",
              "    .dataframe tbody tr th {\n",
              "        vertical-align: top;\n",
              "    }\n",
              "\n",
              "    .dataframe thead th {\n",
              "        text-align: right;\n",
              "    }\n",
              "</style>\n",
              "<table border=\"1\" class=\"dataframe\">\n",
              "  <thead>\n",
              "    <tr style=\"text-align: right;\">\n",
              "      <th></th>\n",
              "      <th>y_true</th>\n",
              "      <th>y_pred</th>\n",
              "    </tr>\n",
              "  </thead>\n",
              "  <tbody>\n",
              "    <tr>\n",
              "      <th>0</th>\n",
              "      <td>72.602917</td>\n",
              "      <td>53.152914</td>\n",
              "    </tr>\n",
              "    <tr>\n",
              "      <th>1</th>\n",
              "      <td>142.916030</td>\n",
              "      <td>153.630146</td>\n",
              "    </tr>\n",
              "    <tr>\n",
              "      <th>2</th>\n",
              "      <td>77.316950</td>\n",
              "      <td>85.187285</td>\n",
              "    </tr>\n",
              "    <tr>\n",
              "      <th>3</th>\n",
              "      <td>101.530621</td>\n",
              "      <td>95.701307</td>\n",
              "    </tr>\n",
              "    <tr>\n",
              "      <th>4</th>\n",
              "      <td>95.771765</td>\n",
              "      <td>99.866169</td>\n",
              "    </tr>\n",
              "  </tbody>\n",
              "</table>\n",
              "</div>\n",
              "    <div class=\"colab-df-buttons\">\n",
              "\n",
              "  <div class=\"colab-df-container\">\n",
              "    <button class=\"colab-df-convert\" onclick=\"convertToInteractive('df-b9433709-a8eb-4751-a057-50988a40e1a5')\"\n",
              "            title=\"Convert this dataframe to an interactive table.\"\n",
              "            style=\"display:none;\">\n",
              "\n",
              "  <svg xmlns=\"http://www.w3.org/2000/svg\" height=\"24px\" viewBox=\"0 -960 960 960\">\n",
              "    <path d=\"M120-120v-720h720v720H120Zm60-500h600v-160H180v160Zm220 220h160v-160H400v160Zm0 220h160v-160H400v160ZM180-400h160v-160H180v160Zm440 0h160v-160H620v160ZM180-180h160v-160H180v160Zm440 0h160v-160H620v160Z\"/>\n",
              "  </svg>\n",
              "    </button>\n",
              "\n",
              "  <style>\n",
              "    .colab-df-container {\n",
              "      display:flex;\n",
              "      gap: 12px;\n",
              "    }\n",
              "\n",
              "    .colab-df-convert {\n",
              "      background-color: #E8F0FE;\n",
              "      border: none;\n",
              "      border-radius: 50%;\n",
              "      cursor: pointer;\n",
              "      display: none;\n",
              "      fill: #1967D2;\n",
              "      height: 32px;\n",
              "      padding: 0 0 0 0;\n",
              "      width: 32px;\n",
              "    }\n",
              "\n",
              "    .colab-df-convert:hover {\n",
              "      background-color: #E2EBFA;\n",
              "      box-shadow: 0px 1px 2px rgba(60, 64, 67, 0.3), 0px 1px 3px 1px rgba(60, 64, 67, 0.15);\n",
              "      fill: #174EA6;\n",
              "    }\n",
              "\n",
              "    .colab-df-buttons div {\n",
              "      margin-bottom: 4px;\n",
              "    }\n",
              "\n",
              "    [theme=dark] .colab-df-convert {\n",
              "      background-color: #3B4455;\n",
              "      fill: #D2E3FC;\n",
              "    }\n",
              "\n",
              "    [theme=dark] .colab-df-convert:hover {\n",
              "      background-color: #434B5C;\n",
              "      box-shadow: 0px 1px 3px 1px rgba(0, 0, 0, 0.15);\n",
              "      filter: drop-shadow(0px 1px 2px rgba(0, 0, 0, 0.3));\n",
              "      fill: #FFFFFF;\n",
              "    }\n",
              "  </style>\n",
              "\n",
              "    <script>\n",
              "      const buttonEl =\n",
              "        document.querySelector('#df-b9433709-a8eb-4751-a057-50988a40e1a5 button.colab-df-convert');\n",
              "      buttonEl.style.display =\n",
              "        google.colab.kernel.accessAllowed ? 'block' : 'none';\n",
              "\n",
              "      async function convertToInteractive(key) {\n",
              "        const element = document.querySelector('#df-b9433709-a8eb-4751-a057-50988a40e1a5');\n",
              "        const dataTable =\n",
              "          await google.colab.kernel.invokeFunction('convertToInteractive',\n",
              "                                                    [key], {});\n",
              "        if (!dataTable) return;\n",
              "\n",
              "        const docLinkHtml = 'Like what you see? Visit the ' +\n",
              "          '<a target=\"_blank\" href=https://colab.research.google.com/notebooks/data_table.ipynb>data table notebook</a>'\n",
              "          + ' to learn more about interactive tables.';\n",
              "        element.innerHTML = '';\n",
              "        dataTable['output_type'] = 'display_data';\n",
              "        await google.colab.output.renderOutput(dataTable, element);\n",
              "        const docLink = document.createElement('div');\n",
              "        docLink.innerHTML = docLinkHtml;\n",
              "        element.appendChild(docLink);\n",
              "      }\n",
              "    </script>\n",
              "  </div>\n",
              "\n",
              "\n",
              "<div id=\"df-0e123c40-ba2d-4017-80f5-797a260796a4\">\n",
              "  <button class=\"colab-df-quickchart\" onclick=\"quickchart('df-0e123c40-ba2d-4017-80f5-797a260796a4')\"\n",
              "            title=\"Suggest charts\"\n",
              "            style=\"display:none;\">\n",
              "\n",
              "<svg xmlns=\"http://www.w3.org/2000/svg\" height=\"24px\"viewBox=\"0 0 24 24\"\n",
              "     width=\"24px\">\n",
              "    <g>\n",
              "        <path d=\"M19 3H5c-1.1 0-2 .9-2 2v14c0 1.1.9 2 2 2h14c1.1 0 2-.9 2-2V5c0-1.1-.9-2-2-2zM9 17H7v-7h2v7zm4 0h-2V7h2v10zm4 0h-2v-4h2v4z\"/>\n",
              "    </g>\n",
              "</svg>\n",
              "  </button>\n",
              "\n",
              "<style>\n",
              "  .colab-df-quickchart {\n",
              "      --bg-color: #E8F0FE;\n",
              "      --fill-color: #1967D2;\n",
              "      --hover-bg-color: #E2EBFA;\n",
              "      --hover-fill-color: #174EA6;\n",
              "      --disabled-fill-color: #AAA;\n",
              "      --disabled-bg-color: #DDD;\n",
              "  }\n",
              "\n",
              "  [theme=dark] .colab-df-quickchart {\n",
              "      --bg-color: #3B4455;\n",
              "      --fill-color: #D2E3FC;\n",
              "      --hover-bg-color: #434B5C;\n",
              "      --hover-fill-color: #FFFFFF;\n",
              "      --disabled-bg-color: #3B4455;\n",
              "      --disabled-fill-color: #666;\n",
              "  }\n",
              "\n",
              "  .colab-df-quickchart {\n",
              "    background-color: var(--bg-color);\n",
              "    border: none;\n",
              "    border-radius: 50%;\n",
              "    cursor: pointer;\n",
              "    display: none;\n",
              "    fill: var(--fill-color);\n",
              "    height: 32px;\n",
              "    padding: 0;\n",
              "    width: 32px;\n",
              "  }\n",
              "\n",
              "  .colab-df-quickchart:hover {\n",
              "    background-color: var(--hover-bg-color);\n",
              "    box-shadow: 0 1px 2px rgba(60, 64, 67, 0.3), 0 1px 3px 1px rgba(60, 64, 67, 0.15);\n",
              "    fill: var(--button-hover-fill-color);\n",
              "  }\n",
              "\n",
              "  .colab-df-quickchart-complete:disabled,\n",
              "  .colab-df-quickchart-complete:disabled:hover {\n",
              "    background-color: var(--disabled-bg-color);\n",
              "    fill: var(--disabled-fill-color);\n",
              "    box-shadow: none;\n",
              "  }\n",
              "\n",
              "  .colab-df-spinner {\n",
              "    border: 2px solid var(--fill-color);\n",
              "    border-color: transparent;\n",
              "    border-bottom-color: var(--fill-color);\n",
              "    animation:\n",
              "      spin 1s steps(1) infinite;\n",
              "  }\n",
              "\n",
              "  @keyframes spin {\n",
              "    0% {\n",
              "      border-color: transparent;\n",
              "      border-bottom-color: var(--fill-color);\n",
              "      border-left-color: var(--fill-color);\n",
              "    }\n",
              "    20% {\n",
              "      border-color: transparent;\n",
              "      border-left-color: var(--fill-color);\n",
              "      border-top-color: var(--fill-color);\n",
              "    }\n",
              "    30% {\n",
              "      border-color: transparent;\n",
              "      border-left-color: var(--fill-color);\n",
              "      border-top-color: var(--fill-color);\n",
              "      border-right-color: var(--fill-color);\n",
              "    }\n",
              "    40% {\n",
              "      border-color: transparent;\n",
              "      border-right-color: var(--fill-color);\n",
              "      border-top-color: var(--fill-color);\n",
              "    }\n",
              "    60% {\n",
              "      border-color: transparent;\n",
              "      border-right-color: var(--fill-color);\n",
              "    }\n",
              "    80% {\n",
              "      border-color: transparent;\n",
              "      border-right-color: var(--fill-color);\n",
              "      border-bottom-color: var(--fill-color);\n",
              "    }\n",
              "    90% {\n",
              "      border-color: transparent;\n",
              "      border-bottom-color: var(--fill-color);\n",
              "    }\n",
              "  }\n",
              "</style>\n",
              "\n",
              "  <script>\n",
              "    async function quickchart(key) {\n",
              "      const quickchartButtonEl =\n",
              "        document.querySelector('#' + key + ' button');\n",
              "      quickchartButtonEl.disabled = true;  // To prevent multiple clicks.\n",
              "      quickchartButtonEl.classList.add('colab-df-spinner');\n",
              "      try {\n",
              "        const charts = await google.colab.kernel.invokeFunction(\n",
              "            'suggestCharts', [key], {});\n",
              "      } catch (error) {\n",
              "        console.error('Error during call to suggestCharts:', error);\n",
              "      }\n",
              "      quickchartButtonEl.classList.remove('colab-df-spinner');\n",
              "      quickchartButtonEl.classList.add('colab-df-quickchart-complete');\n",
              "    }\n",
              "    (() => {\n",
              "      let quickchartButtonEl =\n",
              "        document.querySelector('#df-0e123c40-ba2d-4017-80f5-797a260796a4 button');\n",
              "      quickchartButtonEl.style.display =\n",
              "        google.colab.kernel.accessAllowed ? 'block' : 'none';\n",
              "    })();\n",
              "  </script>\n",
              "</div>\n",
              "\n",
              "    </div>\n",
              "  </div>\n"
            ],
            "application/vnd.google.colaboratory.intrinsic+json": {
              "type": "dataframe",
              "variable_name": "results",
              "summary": "{\n  \"name\": \"results\",\n  \"rows\": 50,\n  \"fields\": [\n    {\n      \"column\": \"y_true\",\n      \"properties\": {\n        \"dtype\": \"number\",\n        \"std\": 22.05180550459367,\n        \"min\": 46.05305818549182,\n        \"max\": 151.50618906273374,\n        \"num_unique_values\": 50,\n        \"samples\": [\n          78.6629802659056,\n          107.8216383960427,\n          95.99974901886597\n        ],\n        \"semantic_type\": \"\",\n        \"description\": \"\"\n      }\n    },\n    {\n      \"column\": \"y_pred\",\n      \"properties\": {\n        \"dtype\": \"number\",\n        \"std\": 25.749554512547313,\n        \"min\": 36.447651131564214,\n        \"max\": 159.88364915883227,\n        \"num_unique_values\": 50,\n        \"samples\": [\n          100.24412260871475,\n          120.60172949274191,\n          94.62665301956864\n        ],\n        \"semantic_type\": \"\",\n        \"description\": \"\"\n      }\n    }\n  ]\n}"
            }
          },
          "metadata": {},
          "execution_count": 15
        }
      ]
    },
    {
      "cell_type": "code",
      "source": [
        "results['error'] = results['y_true'] - results['y_pred']\n",
        "results.head()"
      ],
      "metadata": {
        "colab": {
          "base_uri": "https://localhost:8080/",
          "height": 206
        },
        "id": "O9fjdEFrF3c2",
        "outputId": "24affdb7-b47d-4a72-9cbc-dcc50af3cdcb"
      },
      "execution_count": 16,
      "outputs": [
        {
          "output_type": "execute_result",
          "data": {
            "text/plain": [
              "       y_true      y_pred      error\n",
              "0   72.602917   53.152914  19.450003\n",
              "1  142.916030  153.630146 -10.714116\n",
              "2   77.316950   85.187285  -7.870336\n",
              "3  101.530621   95.701307   5.829314\n",
              "4   95.771765   99.866169  -4.094404"
            ],
            "text/html": [
              "\n",
              "  <div id=\"df-b28508d2-9ff5-474d-a89a-8a0179d3d602\" class=\"colab-df-container\">\n",
              "    <div>\n",
              "<style scoped>\n",
              "    .dataframe tbody tr th:only-of-type {\n",
              "        vertical-align: middle;\n",
              "    }\n",
              "\n",
              "    .dataframe tbody tr th {\n",
              "        vertical-align: top;\n",
              "    }\n",
              "\n",
              "    .dataframe thead th {\n",
              "        text-align: right;\n",
              "    }\n",
              "</style>\n",
              "<table border=\"1\" class=\"dataframe\">\n",
              "  <thead>\n",
              "    <tr style=\"text-align: right;\">\n",
              "      <th></th>\n",
              "      <th>y_true</th>\n",
              "      <th>y_pred</th>\n",
              "      <th>error</th>\n",
              "    </tr>\n",
              "  </thead>\n",
              "  <tbody>\n",
              "    <tr>\n",
              "      <th>0</th>\n",
              "      <td>72.602917</td>\n",
              "      <td>53.152914</td>\n",
              "      <td>19.450003</td>\n",
              "    </tr>\n",
              "    <tr>\n",
              "      <th>1</th>\n",
              "      <td>142.916030</td>\n",
              "      <td>153.630146</td>\n",
              "      <td>-10.714116</td>\n",
              "    </tr>\n",
              "    <tr>\n",
              "      <th>2</th>\n",
              "      <td>77.316950</td>\n",
              "      <td>85.187285</td>\n",
              "      <td>-7.870336</td>\n",
              "    </tr>\n",
              "    <tr>\n",
              "      <th>3</th>\n",
              "      <td>101.530621</td>\n",
              "      <td>95.701307</td>\n",
              "      <td>5.829314</td>\n",
              "    </tr>\n",
              "    <tr>\n",
              "      <th>4</th>\n",
              "      <td>95.771765</td>\n",
              "      <td>99.866169</td>\n",
              "      <td>-4.094404</td>\n",
              "    </tr>\n",
              "  </tbody>\n",
              "</table>\n",
              "</div>\n",
              "    <div class=\"colab-df-buttons\">\n",
              "\n",
              "  <div class=\"colab-df-container\">\n",
              "    <button class=\"colab-df-convert\" onclick=\"convertToInteractive('df-b28508d2-9ff5-474d-a89a-8a0179d3d602')\"\n",
              "            title=\"Convert this dataframe to an interactive table.\"\n",
              "            style=\"display:none;\">\n",
              "\n",
              "  <svg xmlns=\"http://www.w3.org/2000/svg\" height=\"24px\" viewBox=\"0 -960 960 960\">\n",
              "    <path d=\"M120-120v-720h720v720H120Zm60-500h600v-160H180v160Zm220 220h160v-160H400v160Zm0 220h160v-160H400v160ZM180-400h160v-160H180v160Zm440 0h160v-160H620v160ZM180-180h160v-160H180v160Zm440 0h160v-160H620v160Z\"/>\n",
              "  </svg>\n",
              "    </button>\n",
              "\n",
              "  <style>\n",
              "    .colab-df-container {\n",
              "      display:flex;\n",
              "      gap: 12px;\n",
              "    }\n",
              "\n",
              "    .colab-df-convert {\n",
              "      background-color: #E8F0FE;\n",
              "      border: none;\n",
              "      border-radius: 50%;\n",
              "      cursor: pointer;\n",
              "      display: none;\n",
              "      fill: #1967D2;\n",
              "      height: 32px;\n",
              "      padding: 0 0 0 0;\n",
              "      width: 32px;\n",
              "    }\n",
              "\n",
              "    .colab-df-convert:hover {\n",
              "      background-color: #E2EBFA;\n",
              "      box-shadow: 0px 1px 2px rgba(60, 64, 67, 0.3), 0px 1px 3px 1px rgba(60, 64, 67, 0.15);\n",
              "      fill: #174EA6;\n",
              "    }\n",
              "\n",
              "    .colab-df-buttons div {\n",
              "      margin-bottom: 4px;\n",
              "    }\n",
              "\n",
              "    [theme=dark] .colab-df-convert {\n",
              "      background-color: #3B4455;\n",
              "      fill: #D2E3FC;\n",
              "    }\n",
              "\n",
              "    [theme=dark] .colab-df-convert:hover {\n",
              "      background-color: #434B5C;\n",
              "      box-shadow: 0px 1px 3px 1px rgba(0, 0, 0, 0.15);\n",
              "      filter: drop-shadow(0px 1px 2px rgba(0, 0, 0, 0.3));\n",
              "      fill: #FFFFFF;\n",
              "    }\n",
              "  </style>\n",
              "\n",
              "    <script>\n",
              "      const buttonEl =\n",
              "        document.querySelector('#df-b28508d2-9ff5-474d-a89a-8a0179d3d602 button.colab-df-convert');\n",
              "      buttonEl.style.display =\n",
              "        google.colab.kernel.accessAllowed ? 'block' : 'none';\n",
              "\n",
              "      async function convertToInteractive(key) {\n",
              "        const element = document.querySelector('#df-b28508d2-9ff5-474d-a89a-8a0179d3d602');\n",
              "        const dataTable =\n",
              "          await google.colab.kernel.invokeFunction('convertToInteractive',\n",
              "                                                    [key], {});\n",
              "        if (!dataTable) return;\n",
              "\n",
              "        const docLinkHtml = 'Like what you see? Visit the ' +\n",
              "          '<a target=\"_blank\" href=https://colab.research.google.com/notebooks/data_table.ipynb>data table notebook</a>'\n",
              "          + ' to learn more about interactive tables.';\n",
              "        element.innerHTML = '';\n",
              "        dataTable['output_type'] = 'display_data';\n",
              "        await google.colab.output.renderOutput(dataTable, element);\n",
              "        const docLink = document.createElement('div');\n",
              "        docLink.innerHTML = docLinkHtml;\n",
              "        element.appendChild(docLink);\n",
              "      }\n",
              "    </script>\n",
              "  </div>\n",
              "\n",
              "\n",
              "<div id=\"df-8521bb9c-a773-4bf9-bb4b-eb48481a9e5b\">\n",
              "  <button class=\"colab-df-quickchart\" onclick=\"quickchart('df-8521bb9c-a773-4bf9-bb4b-eb48481a9e5b')\"\n",
              "            title=\"Suggest charts\"\n",
              "            style=\"display:none;\">\n",
              "\n",
              "<svg xmlns=\"http://www.w3.org/2000/svg\" height=\"24px\"viewBox=\"0 0 24 24\"\n",
              "     width=\"24px\">\n",
              "    <g>\n",
              "        <path d=\"M19 3H5c-1.1 0-2 .9-2 2v14c0 1.1.9 2 2 2h14c1.1 0 2-.9 2-2V5c0-1.1-.9-2-2-2zM9 17H7v-7h2v7zm4 0h-2V7h2v10zm4 0h-2v-4h2v4z\"/>\n",
              "    </g>\n",
              "</svg>\n",
              "  </button>\n",
              "\n",
              "<style>\n",
              "  .colab-df-quickchart {\n",
              "      --bg-color: #E8F0FE;\n",
              "      --fill-color: #1967D2;\n",
              "      --hover-bg-color: #E2EBFA;\n",
              "      --hover-fill-color: #174EA6;\n",
              "      --disabled-fill-color: #AAA;\n",
              "      --disabled-bg-color: #DDD;\n",
              "  }\n",
              "\n",
              "  [theme=dark] .colab-df-quickchart {\n",
              "      --bg-color: #3B4455;\n",
              "      --fill-color: #D2E3FC;\n",
              "      --hover-bg-color: #434B5C;\n",
              "      --hover-fill-color: #FFFFFF;\n",
              "      --disabled-bg-color: #3B4455;\n",
              "      --disabled-fill-color: #666;\n",
              "  }\n",
              "\n",
              "  .colab-df-quickchart {\n",
              "    background-color: var(--bg-color);\n",
              "    border: none;\n",
              "    border-radius: 50%;\n",
              "    cursor: pointer;\n",
              "    display: none;\n",
              "    fill: var(--fill-color);\n",
              "    height: 32px;\n",
              "    padding: 0;\n",
              "    width: 32px;\n",
              "  }\n",
              "\n",
              "  .colab-df-quickchart:hover {\n",
              "    background-color: var(--hover-bg-color);\n",
              "    box-shadow: 0 1px 2px rgba(60, 64, 67, 0.3), 0 1px 3px 1px rgba(60, 64, 67, 0.15);\n",
              "    fill: var(--button-hover-fill-color);\n",
              "  }\n",
              "\n",
              "  .colab-df-quickchart-complete:disabled,\n",
              "  .colab-df-quickchart-complete:disabled:hover {\n",
              "    background-color: var(--disabled-bg-color);\n",
              "    fill: var(--disabled-fill-color);\n",
              "    box-shadow: none;\n",
              "  }\n",
              "\n",
              "  .colab-df-spinner {\n",
              "    border: 2px solid var(--fill-color);\n",
              "    border-color: transparent;\n",
              "    border-bottom-color: var(--fill-color);\n",
              "    animation:\n",
              "      spin 1s steps(1) infinite;\n",
              "  }\n",
              "\n",
              "  @keyframes spin {\n",
              "    0% {\n",
              "      border-color: transparent;\n",
              "      border-bottom-color: var(--fill-color);\n",
              "      border-left-color: var(--fill-color);\n",
              "    }\n",
              "    20% {\n",
              "      border-color: transparent;\n",
              "      border-left-color: var(--fill-color);\n",
              "      border-top-color: var(--fill-color);\n",
              "    }\n",
              "    30% {\n",
              "      border-color: transparent;\n",
              "      border-left-color: var(--fill-color);\n",
              "      border-top-color: var(--fill-color);\n",
              "      border-right-color: var(--fill-color);\n",
              "    }\n",
              "    40% {\n",
              "      border-color: transparent;\n",
              "      border-right-color: var(--fill-color);\n",
              "      border-top-color: var(--fill-color);\n",
              "    }\n",
              "    60% {\n",
              "      border-color: transparent;\n",
              "      border-right-color: var(--fill-color);\n",
              "    }\n",
              "    80% {\n",
              "      border-color: transparent;\n",
              "      border-right-color: var(--fill-color);\n",
              "      border-bottom-color: var(--fill-color);\n",
              "    }\n",
              "    90% {\n",
              "      border-color: transparent;\n",
              "      border-bottom-color: var(--fill-color);\n",
              "    }\n",
              "  }\n",
              "</style>\n",
              "\n",
              "  <script>\n",
              "    async function quickchart(key) {\n",
              "      const quickchartButtonEl =\n",
              "        document.querySelector('#' + key + ' button');\n",
              "      quickchartButtonEl.disabled = true;  // To prevent multiple clicks.\n",
              "      quickchartButtonEl.classList.add('colab-df-spinner');\n",
              "      try {\n",
              "        const charts = await google.colab.kernel.invokeFunction(\n",
              "            'suggestCharts', [key], {});\n",
              "      } catch (error) {\n",
              "        console.error('Error during call to suggestCharts:', error);\n",
              "      }\n",
              "      quickchartButtonEl.classList.remove('colab-df-spinner');\n",
              "      quickchartButtonEl.classList.add('colab-df-quickchart-complete');\n",
              "    }\n",
              "    (() => {\n",
              "      let quickchartButtonEl =\n",
              "        document.querySelector('#df-8521bb9c-a773-4bf9-bb4b-eb48481a9e5b button');\n",
              "      quickchartButtonEl.style.display =\n",
              "        google.colab.kernel.accessAllowed ? 'block' : 'none';\n",
              "    })();\n",
              "  </script>\n",
              "</div>\n",
              "\n",
              "    </div>\n",
              "  </div>\n"
            ],
            "application/vnd.google.colaboratory.intrinsic+json": {
              "type": "dataframe",
              "variable_name": "results",
              "summary": "{\n  \"name\": \"results\",\n  \"rows\": 50,\n  \"fields\": [\n    {\n      \"column\": \"y_true\",\n      \"properties\": {\n        \"dtype\": \"number\",\n        \"std\": 22.05180550459367,\n        \"min\": 46.05305818549182,\n        \"max\": 151.50618906273374,\n        \"num_unique_values\": 50,\n        \"samples\": [\n          78.6629802659056,\n          107.8216383960427,\n          95.99974901886597\n        ],\n        \"semantic_type\": \"\",\n        \"description\": \"\"\n      }\n    },\n    {\n      \"column\": \"y_pred\",\n      \"properties\": {\n        \"dtype\": \"number\",\n        \"std\": 25.749554512547313,\n        \"min\": 36.447651131564214,\n        \"max\": 159.88364915883227,\n        \"num_unique_values\": 50,\n        \"samples\": [\n          100.24412260871475,\n          120.60172949274191,\n          94.62665301956864\n        ],\n        \"semantic_type\": \"\",\n        \"description\": \"\"\n      }\n    },\n    {\n      \"column\": \"error\",\n      \"properties\": {\n        \"dtype\": \"number\",\n        \"std\": 10.252649343363858,\n        \"min\": -21.581142342809144,\n        \"max\": 23.55485934699702,\n        \"num_unique_values\": 50,\n        \"samples\": [\n          -21.581142342809144,\n          -12.78009109669921,\n          1.373095999297334\n        ],\n        \"semantic_type\": \"\",\n        \"description\": \"\"\n      }\n    }\n  ]\n}"
            }
          },
          "metadata": {},
          "execution_count": 16
        }
      ]
    },
    {
      "cell_type": "markdown",
      "source": [
        "## Interpretacja graficzna"
      ],
      "metadata": {
        "id": "iomvh5V8GBWT"
      }
    },
    {
      "cell_type": "code",
      "source": [
        "def plot_regression_results(results=results):\n",
        "  min = results[['y_true', 'y_pred']].min().min()\n",
        "  max = results[['y_true', 'y_pred']].max().max()\n",
        "\n",
        "  fig = go.Figure(data=[go.Scatter(x=results['y_true'], y=results['y_pred'], mode='markers'),\n",
        "                        go.Scatter(x=[min, max], y=[min, max])],\n",
        "                  layout=go.Layout(title='Regression result',\n",
        "                                   xaxis_title='y_true',\n",
        "                                   yaxis_title='y_pred',\n",
        "                                   showlegend=False))\n",
        "\n",
        "  fig.show()\n",
        "\n",
        "plot_regression_results(results)"
      ],
      "metadata": {
        "colab": {
          "base_uri": "https://localhost:8080/",
          "height": 542
        },
        "id": "_4VJXV8jGHOb",
        "outputId": "68b8ddc5-fbc2-4ed7-e571-b5d3983a65e2"
      },
      "execution_count": 27,
      "outputs": [
        {
          "output_type": "display_data",
          "data": {
            "text/html": [
              "<html>\n",
              "<head><meta charset=\"utf-8\" /></head>\n",
              "<body>\n",
              "    <div>            <script src=\"https://cdnjs.cloudflare.com/ajax/libs/mathjax/2.7.5/MathJax.js?config=TeX-AMS-MML_SVG\"></script><script type=\"text/javascript\">if (window.MathJax && window.MathJax.Hub && window.MathJax.Hub.Config) {window.MathJax.Hub.Config({SVG: {font: \"STIX-Web\"}});}</script>                <script type=\"text/javascript\">window.PlotlyConfig = {MathJaxConfig: 'local'};</script>\n",
              "        <script charset=\"utf-8\" src=\"https://cdn.plot.ly/plotly-2.35.2.min.js\"></script>                <div id=\"b6b44d99-8881-4984-8ba0-b15699986ad4\" class=\"plotly-graph-div\" style=\"height:525px; width:100%;\"></div>            <script type=\"text/javascript\">                                    window.PLOTLYENV=window.PLOTLYENV || {};                                    if (document.getElementById(\"b6b44d99-8881-4984-8ba0-b15699986ad4\")) {                    Plotly.newPlot(                        \"b6b44d99-8881-4984-8ba0-b15699986ad4\",                        [{\"mode\":\"markers\",\"x\":[72.6029172496037,142.91602965942246,77.3169495287045,101.53062099514476,95.77176464711698,116.55553130683845,147.53531935289345,106.64600329128314,46.05305818549182,100.36511053635257,130.1662468504207,57.002263316431026,104.36443634023007,78.6629802659056,93.40378286294236,123.38892433471491,64.73942438131667,99.80904970668068,109.02183314588017,112.2712164837406,69.5353544701176,101.08444094744831,129.23014386358864,127.87388880943645,125.668748969421,95.05395554615745,117.11756267868356,113.91512730281787,117.25310688724505,113.42828711561205,95.99974901886597,86.72749164030111,88.13071654135621,106.49357960903943,105.83123544200343,72.36548625305012,104.27491203253317,117.56638203123921,84.28959157116921,107.8216383960427,90.07140028086862,134.07857749732062,151.50618906273374,99.58613380780996,108.98319902599903,95.24659181979352,107.25633749375974,111.32770577245873,118.23179594606043,103.97328739111528],\"y\":[53.15291407787999,153.6301458128782,85.18728509943476,95.70130726040183,99.86616873087527,117.09038905300483,159.88364915883227,93.04584393437474,36.447651131564214,92.82969691611518,134.25422874066254,58.039224985318846,97.70005819406659,100.24412260871475,84.28243401158336,122.06967197814159,63.422649311205454,98.50160006773699,115.84422019263137,120.64938887431283,65.49180761805903,112.65629199555895,127.51442585261442,135.93662433711148,128.0933212748935,96.42899691647233,95.39642813399162,133.4323395585989,118.34983906721882,120.59039477630365,94.62665301956864,86.08517081957262,109.14941682581629,102.25750073921655,82.27637609500641,67.58584191247975,102.75488259840235,102.90254782175201,79.18427141020786,120.60172949274191,98.7449963382476,139.31852041318263,151.57686746504626,119.52326107345377,106.23274269923463,104.01286912030282,103.24879865341454,120.1077248250898,129.71757916309835,108.41506359162874],\"type\":\"scatter\"},{\"x\":[36.447651131564214,159.88364915883227],\"y\":[36.447651131564214,159.88364915883227],\"type\":\"scatter\"}],                        {\"showlegend\":false,\"title\":{\"text\":\"Regression result\"},\"xaxis\":{\"title\":{\"text\":\"y_true\"}},\"yaxis\":{\"title\":{\"text\":\"y_pred\"}},\"template\":{\"data\":{\"histogram2dcontour\":[{\"type\":\"histogram2dcontour\",\"colorbar\":{\"outlinewidth\":0,\"ticks\":\"\"},\"colorscale\":[[0.0,\"#0d0887\"],[0.1111111111111111,\"#46039f\"],[0.2222222222222222,\"#7201a8\"],[0.3333333333333333,\"#9c179e\"],[0.4444444444444444,\"#bd3786\"],[0.5555555555555556,\"#d8576b\"],[0.6666666666666666,\"#ed7953\"],[0.7777777777777778,\"#fb9f3a\"],[0.8888888888888888,\"#fdca26\"],[1.0,\"#f0f921\"]]}],\"choropleth\":[{\"type\":\"choropleth\",\"colorbar\":{\"outlinewidth\":0,\"ticks\":\"\"}}],\"histogram2d\":[{\"type\":\"histogram2d\",\"colorbar\":{\"outlinewidth\":0,\"ticks\":\"\"},\"colorscale\":[[0.0,\"#0d0887\"],[0.1111111111111111,\"#46039f\"],[0.2222222222222222,\"#7201a8\"],[0.3333333333333333,\"#9c179e\"],[0.4444444444444444,\"#bd3786\"],[0.5555555555555556,\"#d8576b\"],[0.6666666666666666,\"#ed7953\"],[0.7777777777777778,\"#fb9f3a\"],[0.8888888888888888,\"#fdca26\"],[1.0,\"#f0f921\"]]}],\"heatmap\":[{\"type\":\"heatmap\",\"colorbar\":{\"outlinewidth\":0,\"ticks\":\"\"},\"colorscale\":[[0.0,\"#0d0887\"],[0.1111111111111111,\"#46039f\"],[0.2222222222222222,\"#7201a8\"],[0.3333333333333333,\"#9c179e\"],[0.4444444444444444,\"#bd3786\"],[0.5555555555555556,\"#d8576b\"],[0.6666666666666666,\"#ed7953\"],[0.7777777777777778,\"#fb9f3a\"],[0.8888888888888888,\"#fdca26\"],[1.0,\"#f0f921\"]]}],\"heatmapgl\":[{\"type\":\"heatmapgl\",\"colorbar\":{\"outlinewidth\":0,\"ticks\":\"\"},\"colorscale\":[[0.0,\"#0d0887\"],[0.1111111111111111,\"#46039f\"],[0.2222222222222222,\"#7201a8\"],[0.3333333333333333,\"#9c179e\"],[0.4444444444444444,\"#bd3786\"],[0.5555555555555556,\"#d8576b\"],[0.6666666666666666,\"#ed7953\"],[0.7777777777777778,\"#fb9f3a\"],[0.8888888888888888,\"#fdca26\"],[1.0,\"#f0f921\"]]}],\"contourcarpet\":[{\"type\":\"contourcarpet\",\"colorbar\":{\"outlinewidth\":0,\"ticks\":\"\"}}],\"contour\":[{\"type\":\"contour\",\"colorbar\":{\"outlinewidth\":0,\"ticks\":\"\"},\"colorscale\":[[0.0,\"#0d0887\"],[0.1111111111111111,\"#46039f\"],[0.2222222222222222,\"#7201a8\"],[0.3333333333333333,\"#9c179e\"],[0.4444444444444444,\"#bd3786\"],[0.5555555555555556,\"#d8576b\"],[0.6666666666666666,\"#ed7953\"],[0.7777777777777778,\"#fb9f3a\"],[0.8888888888888888,\"#fdca26\"],[1.0,\"#f0f921\"]]}],\"surface\":[{\"type\":\"surface\",\"colorbar\":{\"outlinewidth\":0,\"ticks\":\"\"},\"colorscale\":[[0.0,\"#0d0887\"],[0.1111111111111111,\"#46039f\"],[0.2222222222222222,\"#7201a8\"],[0.3333333333333333,\"#9c179e\"],[0.4444444444444444,\"#bd3786\"],[0.5555555555555556,\"#d8576b\"],[0.6666666666666666,\"#ed7953\"],[0.7777777777777778,\"#fb9f3a\"],[0.8888888888888888,\"#fdca26\"],[1.0,\"#f0f921\"]]}],\"mesh3d\":[{\"type\":\"mesh3d\",\"colorbar\":{\"outlinewidth\":0,\"ticks\":\"\"}}],\"scatter\":[{\"fillpattern\":{\"fillmode\":\"overlay\",\"size\":10,\"solidity\":0.2},\"type\":\"scatter\"}],\"parcoords\":[{\"type\":\"parcoords\",\"line\":{\"colorbar\":{\"outlinewidth\":0,\"ticks\":\"\"}}}],\"scatterpolargl\":[{\"type\":\"scatterpolargl\",\"marker\":{\"colorbar\":{\"outlinewidth\":0,\"ticks\":\"\"}}}],\"bar\":[{\"error_x\":{\"color\":\"#2a3f5f\"},\"error_y\":{\"color\":\"#2a3f5f\"},\"marker\":{\"line\":{\"color\":\"#E5ECF6\",\"width\":0.5},\"pattern\":{\"fillmode\":\"overlay\",\"size\":10,\"solidity\":0.2}},\"type\":\"bar\"}],\"scattergeo\":[{\"type\":\"scattergeo\",\"marker\":{\"colorbar\":{\"outlinewidth\":0,\"ticks\":\"\"}}}],\"scatterpolar\":[{\"type\":\"scatterpolar\",\"marker\":{\"colorbar\":{\"outlinewidth\":0,\"ticks\":\"\"}}}],\"histogram\":[{\"marker\":{\"pattern\":{\"fillmode\":\"overlay\",\"size\":10,\"solidity\":0.2}},\"type\":\"histogram\"}],\"scattergl\":[{\"type\":\"scattergl\",\"marker\":{\"colorbar\":{\"outlinewidth\":0,\"ticks\":\"\"}}}],\"scatter3d\":[{\"type\":\"scatter3d\",\"line\":{\"colorbar\":{\"outlinewidth\":0,\"ticks\":\"\"}},\"marker\":{\"colorbar\":{\"outlinewidth\":0,\"ticks\":\"\"}}}],\"scattermapbox\":[{\"type\":\"scattermapbox\",\"marker\":{\"colorbar\":{\"outlinewidth\":0,\"ticks\":\"\"}}}],\"scatterternary\":[{\"type\":\"scatterternary\",\"marker\":{\"colorbar\":{\"outlinewidth\":0,\"ticks\":\"\"}}}],\"scattercarpet\":[{\"type\":\"scattercarpet\",\"marker\":{\"colorbar\":{\"outlinewidth\":0,\"ticks\":\"\"}}}],\"carpet\":[{\"aaxis\":{\"endlinecolor\":\"#2a3f5f\",\"gridcolor\":\"white\",\"linecolor\":\"white\",\"minorgridcolor\":\"white\",\"startlinecolor\":\"#2a3f5f\"},\"baxis\":{\"endlinecolor\":\"#2a3f5f\",\"gridcolor\":\"white\",\"linecolor\":\"white\",\"minorgridcolor\":\"white\",\"startlinecolor\":\"#2a3f5f\"},\"type\":\"carpet\"}],\"table\":[{\"cells\":{\"fill\":{\"color\":\"#EBF0F8\"},\"line\":{\"color\":\"white\"}},\"header\":{\"fill\":{\"color\":\"#C8D4E3\"},\"line\":{\"color\":\"white\"}},\"type\":\"table\"}],\"barpolar\":[{\"marker\":{\"line\":{\"color\":\"#E5ECF6\",\"width\":0.5},\"pattern\":{\"fillmode\":\"overlay\",\"size\":10,\"solidity\":0.2}},\"type\":\"barpolar\"}],\"pie\":[{\"automargin\":true,\"type\":\"pie\"}]},\"layout\":{\"autotypenumbers\":\"strict\",\"colorway\":[\"#636efa\",\"#EF553B\",\"#00cc96\",\"#ab63fa\",\"#FFA15A\",\"#19d3f3\",\"#FF6692\",\"#B6E880\",\"#FF97FF\",\"#FECB52\"],\"font\":{\"color\":\"#2a3f5f\"},\"hovermode\":\"closest\",\"hoverlabel\":{\"align\":\"left\"},\"paper_bgcolor\":\"white\",\"plot_bgcolor\":\"#E5ECF6\",\"polar\":{\"bgcolor\":\"#E5ECF6\",\"angularaxis\":{\"gridcolor\":\"white\",\"linecolor\":\"white\",\"ticks\":\"\"},\"radialaxis\":{\"gridcolor\":\"white\",\"linecolor\":\"white\",\"ticks\":\"\"}},\"ternary\":{\"bgcolor\":\"#E5ECF6\",\"aaxis\":{\"gridcolor\":\"white\",\"linecolor\":\"white\",\"ticks\":\"\"},\"baxis\":{\"gridcolor\":\"white\",\"linecolor\":\"white\",\"ticks\":\"\"},\"caxis\":{\"gridcolor\":\"white\",\"linecolor\":\"white\",\"ticks\":\"\"}},\"coloraxis\":{\"colorbar\":{\"outlinewidth\":0,\"ticks\":\"\"}},\"colorscale\":{\"sequential\":[[0.0,\"#0d0887\"],[0.1111111111111111,\"#46039f\"],[0.2222222222222222,\"#7201a8\"],[0.3333333333333333,\"#9c179e\"],[0.4444444444444444,\"#bd3786\"],[0.5555555555555556,\"#d8576b\"],[0.6666666666666666,\"#ed7953\"],[0.7777777777777778,\"#fb9f3a\"],[0.8888888888888888,\"#fdca26\"],[1.0,\"#f0f921\"]],\"sequentialminus\":[[0.0,\"#0d0887\"],[0.1111111111111111,\"#46039f\"],[0.2222222222222222,\"#7201a8\"],[0.3333333333333333,\"#9c179e\"],[0.4444444444444444,\"#bd3786\"],[0.5555555555555556,\"#d8576b\"],[0.6666666666666666,\"#ed7953\"],[0.7777777777777778,\"#fb9f3a\"],[0.8888888888888888,\"#fdca26\"],[1.0,\"#f0f921\"]],\"diverging\":[[0,\"#8e0152\"],[0.1,\"#c51b7d\"],[0.2,\"#de77ae\"],[0.3,\"#f1b6da\"],[0.4,\"#fde0ef\"],[0.5,\"#f7f7f7\"],[0.6,\"#e6f5d0\"],[0.7,\"#b8e186\"],[0.8,\"#7fbc41\"],[0.9,\"#4d9221\"],[1,\"#276419\"]]},\"xaxis\":{\"gridcolor\":\"white\",\"linecolor\":\"white\",\"ticks\":\"\",\"title\":{\"standoff\":15},\"zerolinecolor\":\"white\",\"automargin\":true,\"zerolinewidth\":2},\"yaxis\":{\"gridcolor\":\"white\",\"linecolor\":\"white\",\"ticks\":\"\",\"title\":{\"standoff\":15},\"zerolinecolor\":\"white\",\"automargin\":true,\"zerolinewidth\":2},\"scene\":{\"xaxis\":{\"backgroundcolor\":\"#E5ECF6\",\"gridcolor\":\"white\",\"linecolor\":\"white\",\"showbackground\":true,\"ticks\":\"\",\"zerolinecolor\":\"white\",\"gridwidth\":2},\"yaxis\":{\"backgroundcolor\":\"#E5ECF6\",\"gridcolor\":\"white\",\"linecolor\":\"white\",\"showbackground\":true,\"ticks\":\"\",\"zerolinecolor\":\"white\",\"gridwidth\":2},\"zaxis\":{\"backgroundcolor\":\"#E5ECF6\",\"gridcolor\":\"white\",\"linecolor\":\"white\",\"showbackground\":true,\"ticks\":\"\",\"zerolinecolor\":\"white\",\"gridwidth\":2}},\"shapedefaults\":{\"line\":{\"color\":\"#2a3f5f\"}},\"annotationdefaults\":{\"arrowcolor\":\"#2a3f5f\",\"arrowhead\":0,\"arrowwidth\":1},\"geo\":{\"bgcolor\":\"white\",\"landcolor\":\"#E5ECF6\",\"subunitcolor\":\"white\",\"showland\":true,\"showlakes\":true,\"lakecolor\":\"white\"},\"title\":{\"x\":0.05},\"mapbox\":{\"style\":\"light\"}}}},                        {\"responsive\": true}                    ).then(function(){\n",
              "                            \n",
              "var gd = document.getElementById('b6b44d99-8881-4984-8ba0-b15699986ad4');\n",
              "var x = new MutationObserver(function (mutations, observer) {{\n",
              "        var display = window.getComputedStyle(gd).display;\n",
              "        if (!display || display === 'none') {{\n",
              "            console.log([gd, 'removed!']);\n",
              "            Plotly.purge(gd);\n",
              "            observer.disconnect();\n",
              "        }}\n",
              "}});\n",
              "\n",
              "// Listen for the removal of the full notebook cells\n",
              "var notebookContainer = gd.closest('#notebook-container');\n",
              "if (notebookContainer) {{\n",
              "    x.observe(notebookContainer, {childList: true});\n",
              "}}\n",
              "\n",
              "// Listen for the clearing of the current output cell\n",
              "var outputEl = gd.closest('.output');\n",
              "if (outputEl) {{\n",
              "    x.observe(outputEl, {childList: true});\n",
              "}}\n",
              "\n",
              "                        })                };                            </script>        </div>\n",
              "</body>\n",
              "</html>"
            ]
          },
          "metadata": {}
        }
      ]
    },
    {
      "cell_type": "code",
      "source": [
        "y_true = 100 + 20 * np.random.randn(1000)\n",
        "y_pred = y_true + 10 * np.random.randn(1000)\n",
        "\n",
        "results = pd.DataFrame({'y_true': y_true, 'y_pred': y_pred})\n",
        "results['error'] = results['y_true'] - results['y_pred']\n",
        "\n",
        "px.histogram(results, x='error', nbins=50)"
      ],
      "metadata": {
        "colab": {
          "base_uri": "https://localhost:8080/",
          "height": 542
        },
        "id": "A4d5njAuJokz",
        "outputId": "fc84aad7-6019-4ed4-cf3a-e139b46508b9"
      },
      "execution_count": 29,
      "outputs": [
        {
          "output_type": "display_data",
          "data": {
            "text/html": [
              "<html>\n",
              "<head><meta charset=\"utf-8\" /></head>\n",
              "<body>\n",
              "    <div>            <script src=\"https://cdnjs.cloudflare.com/ajax/libs/mathjax/2.7.5/MathJax.js?config=TeX-AMS-MML_SVG\"></script><script type=\"text/javascript\">if (window.MathJax && window.MathJax.Hub && window.MathJax.Hub.Config) {window.MathJax.Hub.Config({SVG: {font: \"STIX-Web\"}});}</script>                <script type=\"text/javascript\">window.PlotlyConfig = {MathJaxConfig: 'local'};</script>\n",
              "        <script charset=\"utf-8\" src=\"https://cdn.plot.ly/plotly-2.35.2.min.js\"></script>                <div id=\"a857cdf3-4738-44af-bd61-e8be87bafb9d\" class=\"plotly-graph-div\" style=\"height:525px; width:100%;\"></div>            <script type=\"text/javascript\">                                    window.PLOTLYENV=window.PLOTLYENV || {};                                    if (document.getElementById(\"a857cdf3-4738-44af-bd61-e8be87bafb9d\")) {                    Plotly.newPlot(                        \"a857cdf3-4738-44af-bd61-e8be87bafb9d\",                        [{\"alignmentgroup\":\"True\",\"bingroup\":\"x\",\"hovertemplate\":\"error=%{x}\\u003cbr\\u003ecount=%{y}\\u003cextra\\u003e\\u003c\\u002fextra\\u003e\",\"legendgroup\":\"\",\"marker\":{\"color\":\"#636efa\",\"pattern\":{\"shape\":\"\"}},\"name\":\"\",\"nbinsx\":50,\"offsetgroup\":\"\",\"orientation\":\"v\",\"showlegend\":false,\"x\":[-17.89599500315191,5.110754333012572,4.026200282466277,5.75783837472548,8.350653573893851,-2.764299417525251,-6.704104599101925,3.5110033891601518,-11.749098482868732,8.2498692760241,10.422842374845828,-17.73005773098967,21.483671898764854,0.6687427144737512,-9.314586798007085,4.022100301504892,12.137760139322793,7.757383791584331,-19.627725065837865,-7.135108682741276,15.219685300126045,-4.14288724226077,-20.525961647373023,3.3233175646634407,6.327153123111344,4.490679295590894,4.75321889239045,-9.889480765286223,-12.036047519542777,5.8116229329686035,16.314191176615168,-2.695618656581189,16.79860946929759,1.984474876517055,-3.5382249355912307,0.19752971821108645,19.32831221484801,-3.4619895620568855,1.3317518349930566,-3.9241859200523947,0.4575332916343626,9.234274485649308,2.276581107737158,-23.792817093423167,3.686122745855556,12.464096349199579,-5.274361353256367,16.951705604606133,4.7476429394898645,-6.078844343630152,7.595418399323023,-6.493870727621683,-2.950481432637133,-4.898342650773586,-10.547541684311298,10.147221636615399,15.346042224391724,24.90094531810439,-15.215626167945274,-0.6396816885644654,9.941690777883878,13.990498681341471,-8.997084614724628,2.655275365543318,-0.381238034164852,-4.430955742112275,-7.647756405340985,-2.5423332907795952,7.034826304287151,-10.099517134679758,10.45739849796935,0.5288513634002356,-8.200447634091326,-8.39220344799972,-10.186520569547724,6.5057227865274,17.198442543737784,5.542991316081412,6.4374931215305224,4.505370691686323,-12.249105347776535,-2.12177066151051,-4.478711240705962,7.657772284844214,3.6858668670425487,0.958025795923561,-16.06412781591905,12.406744850182761,2.4297589998179774,0.1634112443422282,-7.412663243969661,23.692531235993357,12.879297412837786,9.15298449919787,11.435966992092276,15.471458588445358,11.718841821407906,-10.893415699389777,4.466613722465183,-15.968959104433594,2.109828186573239,3.65268420625398,7.0285676370569234,3.2955917080703614,-0.6806634160336387,11.715735558827447,0.8129031708135273,27.84419350377101,7.068291437812235,20.342185005182756,1.389772734219818,-5.87869845666313,3.4933608800285754,3.7797965201696826,-0.11855288063529201,21.115339329455765,10.21893063318759,8.325105881536174,-15.375035626404298,-9.057264536130162,-9.935258415168235,-3.12650991725927,4.552535979717973,0.3405095001506879,14.76967335534954,7.1793522055427985,-12.868414639436224,20.13436568207861,12.350580224825663,-9.183933552718116,-2.6824937530138584,1.9145416270266793,-7.491786391667262,6.066326763037935,0.5573310886293967,11.736605891677158,-5.111498803707846,10.149474028932687,8.000313060911353,16.157063688058358,7.593292436202674,-2.0344913047120627,-4.725440610712241,-1.626332170955294,-2.3739130802373722,-3.604482993253484,14.115188349880086,1.2172330203856916,17.50475490645252,-20.3631633760684,-6.983151118834087,6.544270895175018,0.5446170305213514,15.163594040347178,-11.58231864103729,-31.03693818885891,-14.068016423524256,-3.063582996933434,-2.7514917925098388,9.276084040256308,6.133384101827517,-1.4248219753903157,8.435710478000018,5.812513443572541,18.419420554207754,4.636196946630207,1.3222806953879171,-17.51086523971705,6.177442043710755,-5.791199327045518,-12.067722724643147,4.379403354720381,29.555904928774154,-30.04673849358531,7.078546522717474,5.022879011695096,10.14144782964,-4.408810927004538,-2.4858236532756735,-6.378685638736798,-4.955845913962577,-4.974270423057078,13.075683355131787,1.515686931349947,0.8282265277298961,4.986919862117901,-6.9641224299860625,-6.36982587735335,-10.089136047655046,18.01250573861826,7.829319573209062,-17.30814677869286,3.0475461886766197,-10.510627672574145,4.767135215156273,-12.80711211631467,-7.712798828373749,-0.9622828857122414,-6.06841043769947,27.41002777959315,8.636424431747386,2.9435265271242486,4.613350373268716,-11.103629975922331,18.91798242316422,-4.623735046523706,-1.0371129306138158,-8.78737176079052,6.859372828254962,1.0127696282926024,-4.933188780485864,6.041186948260531,3.0181109742985797,14.684082448618845,7.135658683277711,-4.439079763613989,14.331034956671857,-7.656928799221745,6.326190017009637,-11.264483545220088,6.134762823805659,8.547754850700727,13.463227281788804,-6.895545900485558,-15.601786267134827,1.026242101924339,12.421158718752395,-6.657030748097554,-6.824727022847256,-0.9624997943970328,-9.004785233547011,16.931084725316353,-10.795859033609645,3.165869864980124,0.5176389291425352,7.070021357730923,6.025516456273863,17.62218804290687,3.6473943405234337,-12.189147975651778,-6.337706202100868,4.124955879771079,4.056943396775026,-11.06441892677482,0.7900694121245095,-17.09342713096089,-12.746270660114888,1.1393603817486309,-10.825552403212171,-2.7108102937683753,-5.605439634740193,-7.779588587665486,1.2185735832248952,4.173137336962384,6.697262714224053,6.435676770284687,-11.119412781175356,-9.896474457236351,-1.2527949831182639,-1.5659271367597398,-3.1249207841596274,-7.916647529261596,-13.410776183607965,12.125959408432578,-20.266292900534594,-10.858771151343262,14.176365370350979,-4.878717234987505,5.454669545426015,-20.250544748546332,10.938394417196122,-0.7587643807895432,2.0871986839427734,-0.02324388046898207,7.965199916530537,-2.030114567668761,13.751943208028734,0.7293924124882238,-7.691581102786856,8.68891928010268,5.032233653312289,-3.1598972700567742,-8.816047064297734,9.345218411394583,2.023361861729356,-2.362830586498788,13.007573958773904,0.845286705351171,31.45070773472368,8.035821917223103,4.198727069422574,-11.54079772619616,-15.739097456685812,-5.961880986989769,-3.5410055977567225,14.305424364625466,-2.904231444710362,13.891472795961832,7.460243506426522,-3.184518154150794,-6.523556385782143,15.432949996552082,-0.5171860451658006,-2.507164478302684,-5.947543775089329,-1.0323964992605568,-9.533366771217999,8.806738188648026,0.5333893425538747,2.314677440901292,9.766510735805383,-2.914365336788535,5.321623901181994,-15.709292663903184,10.894375494641167,-5.2823806740351245,4.967863582908564,-4.840016877136435,0.13602361938278307,19.25086083370708,7.367801583843502,4.067407937268243,0.33678713842896,-6.943256198234252,7.037352020901494,10.254328315149749,-7.632797870090428,-22.510862594577844,-3.1670984688629034,12.863541445996958,-19.236144559381046,-8.170119158581898,0.04131301705945134,7.9962675199643485,11.49187642069684,-5.81159436474438,-2.010520970016728,29.27237098825725,-6.21613032355566,-1.0654829669006176,-14.639651828407864,2.791506846940919,-7.392487432898307,11.306669790669048,9.170183624188553,3.9636915033768076,18.096074668245052,-6.199674049400116,-10.847387724586895,6.51045990576614,7.260982990798496,6.024084633788931,7.181355705200005,-3.211325373405572,1.3184439922462303,-1.6444533786759763,5.621019447294813,-13.452059401782847,-2.065114542663011,8.805469485746059,-18.72522242269372,-3.82200996476746,-6.228133728258612,-17.487837189560935,13.604736929547734,-14.186019607910396,-5.175886347103599,-3.6790514083824775,3.906975425329108,1.1205925744821457,-9.324456576359069,-16.567749501028686,-7.191329158582235,0.6263039697871591,1.0070358469582459,-6.262610364314668,-4.445930948097072,8.125967331868807,5.804200927193222,-8.050042242251152,11.214781658158337,5.165715768620686,-6.281516198209033,3.482082184937937,2.2584201438817644,18.352510233428085,-9.790019317818903,-1.0024551033077955,-7.282051505553838,-2.0914078427179135,-1.3664745307709438,10.966186511057025,0.27882721622918893,9.467249388200912,0.8483272511945756,15.563656366619483,-14.446100531067401,14.191179503225342,10.732407287250055,-1.453743712478385,1.1394980158223262,5.980893936327391,-16.338610289529484,-26.773369396634962,-29.5654502413566,-13.959416073602554,-16.838614182575853,5.1163366496830776,5.801454734703242,3.917695249088567,-4.09273249718926,6.906039126095067,-13.426163129186847,-6.973979602717691,1.9010794691624113,10.40501900157625,6.907854782314118,1.8510578016706205,-0.8686000158624836,-1.1062605622345387,-5.873220500973417,0.5705736540672035,13.8242988139325,5.970795192490101,5.35394690941051,-0.3458043332654057,1.2846751599398374,5.42312317496031,-7.449424549079708,4.535147796690836,4.160469005560557,14.628479689706339,-14.443813706126846,-9.400302348198593,0.05164137292098303,4.017706290368409,-16.20093524683429,11.16941646019717,5.627176979625659,-1.421810027766682,-1.5590964527977462,-17.011825190766174,-9.64222271715522,4.777729581396883,-10.968124603932282,3.687333891600346,-5.99678521986192,11.333126953589755,5.041559714853335,9.331465205744237,23.097591634856457,-5.696745500500583,11.96788170656383,-7.8243757930753475,-10.491828591228241,-13.084018155485069,-6.815728366613598,8.543771766161242,2.788715668368752,4.116503348825404,-16.50998267310895,-19.933287508774626,-3.754653118126143,-4.017211696700485,4.077604396148999,-7.478636299687622,6.518954133179719,-1.7962028639686594,-6.418736669181385,-16.957091188205368,5.5388097168320485,-9.074184659580055,10.517554170776265,2.402545575850695,2.9324964281205936,10.082769065739058,-10.034555884257173,-18.920205568205645,-24.114799262638826,17.722645856844792,5.253881037319651,-11.649787101256152,-10.806410397079873,-3.915546105296613,8.05686374728944,-2.016844981739993,22.261508961544564,-15.412442356435193,-18.52736057757795,2.667143601071629,-12.944638547698645,-10.65405076573279,18.75973730412082,7.265206055425523,7.355560813024269,-26.308014903879467,-1.1802738575265863,-0.9933879919275626,-2.0917837307438987,13.928555433210747,0.8039169025513075,-10.616711944326482,-4.923200693188477,13.160952336313471,21.445061546721277,7.527465693480352,3.1239730977802367,11.684120324373183,-9.645633205069032,-4.299606163629193,-9.235436149760076,-10.01892567087701,13.562033137684722,11.396830134792992,8.32339380662387,-15.664724321600374,-1.4818073058397374,8.054445685473809,-3.6827662130060475,2.8187820395643826,6.5403190456969895,-1.9658144706708072,-4.520918269261273,-1.055485751288657,-4.366852462558839,-2.2036626587429424,12.834055634680837,-7.5897536899354066,-13.151605011051885,1.1442078685113017,12.08276161338722,-11.185398307646196,-6.564641896338912,15.770814755252331,0.8737607852291234,-30.181868795046228,2.378187872019936,-1.1689537144879552,-9.170348012959664,19.640696382127643,7.211156218532778,6.75517252629227,11.705899711543182,3.153626192953155,4.560346104426387,25.802563787564537,4.388062748750627,-28.213964205822307,-4.3771987193473905,4.50933620375838,5.265198513909439,4.621178373916081,-12.552039710250313,2.5037759470914267,8.05302575381856,-4.3045533597999395,-0.9661386113883168,-9.735812731247727,8.098418614835978,17.668644213617796,-14.202118909254338,-6.911649971864136,-5.985595174303938,24.499525091940924,-18.473789916449732,4.742965103757001,1.656831135898571,2.032434735244024,16.635720466643633,-7.503035152469678,-9.604035654916046,11.371694342584831,-0.6371888592643558,3.954814172530263,4.617424900240906,-9.868948361753738,4.266766745617176,-15.991632680093105,0.20341218441085118,-9.016433547020142,0.4838340974566364,-6.742517656785168,18.54311626638865,-5.622331952578691,9.851455471409395,-1.1805642690709135,8.2898211567814,1.1256713450234912,-5.762885107988794,6.696867763744848,-18.384841774756012,-5.23033540003955,-15.329115714308031,9.039287264495272,-1.3335475170496238,9.763065693605867,-3.73133299770015,13.128898225192458,-10.452486486605352,-0.2079688730042477,7.800803506482083,0.3466328243357424,-1.686270690745161,-22.374320096695428,-10.705917684295684,22.222090583596085,-3.878698458711696,-0.9209580238385939,-15.058966564582889,4.985308716903546,-1.0590486254613438,4.134497756896124,-6.5753271795422705,-8.365384497467517,-10.99260613859731,4.456218678058761,7.591746978553871,-16.47337073694915,8.35575545572786,-18.31814929375291,-4.711613727950052,11.336155006040244,4.719261776934687,12.225280329694996,-6.9266568206060555,4.7840713223392015,-3.8333020104225284,-3.336587885642828,-1.1236855416029954,13.40721533413766,-14.69446683421971,11.362065776300511,14.24375595885536,-13.031007718858532,0.09392730741419086,15.89010257429949,8.322047237845283,-17.453836270384315,0.22173814347769394,-0.43025765940200245,15.520648062384453,-2.861687682156429,-3.7447783017001086,-14.067354923118359,4.01204796284425,4.730961099810926,1.1575030676082747,-9.650232487518082,15.210641232881855,-13.997790089723694,16.695199680213776,6.707643645318555,-2.071030385659469,-3.1809506161040275,-2.1368723499603703,-14.810758083420666,20.723227157283176,0.023421380503435785,13.123897105308657,-2.1006163384457466,6.368358077161417,9.962677519853301,18.666796064019366,1.1130319923037888,-6.979036040845742,-8.829342390749133,1.743786938613809,1.0729689383348386,-37.70986417901875,-9.792847613800404,0.779558551028984,-5.690952940540029,-7.769482633226588,-20.59677367717009,6.523185521274726,1.0009902267441504,-0.076361780475807,11.507818345036114,14.43224073675411,-1.3811163376465743,-3.852493233885781,3.1953976156267316,18.447972661171562,9.751131753353391,-0.20789994977567972,11.943856043233097,19.387348960020603,-8.235030979501829,-1.901664712295812,-10.44301137052372,8.130805678480044,-13.561165430840958,5.386873664009343,-6.291382524724668,-9.22533416801825,-0.6572002805326491,1.1213461311148052,13.116115314610084,9.122862346453203,-4.605365553465305,7.612554110380074,10.846302593788977,-13.360467319420962,6.518881274265453,8.354919579974975,0.1488604874634234,-6.410431010909974,-4.438779496439537,-10.454571943644169,-7.149709226285765,-2.5773135095444246,15.126007868574249,11.111571357018335,6.399499300274272,-8.826211809714565,0.34881611669048596,9.154525390841627,-6.993083326382973,-3.6350674108409606,1.8837975086252783,-2.739286283500114,-12.253366376924944,11.022837623309101,12.95087747862543,-1.8102359453745578,6.523171079534393,14.481106686255515,-7.671121098704191,-1.1841351791818937,-9.936996678013259,-2.874820386010967,-3.4384271550300696,-14.054937473625571,-8.264984061555879,12.260430564176431,-2.4298680988089103,-8.621413118046632,-2.41568330704672,-3.456419231295456,-6.603138411605855,2.467270278541392,3.782650959593454,-15.131972143650643,-2.3256079333464896,-15.608448010218822,7.004579322511091,-10.3743110562867,12.044389033865968,-9.016336214726664,-2.4318818016514854,-10.625501360855807,0.976438402737358,1.0620300283026864,10.271552988311385,-4.719396447206492,-1.9363899164447105,-14.003933157211378,-0.47211373261205836,-3.8875740693360967,0.8316913316790391,-5.617395890571643,1.1468313906470513,-4.5530680412469735,0.6766779319056866,12.747754400376422,6.14185545734999,-12.86965247513821,14.736942534896812,4.953247294970595,19.439800030608858,21.866866066805606,-9.2776829521125,1.336055103685382,5.930403165001877,11.722027865713272,7.9176509887615225,18.206120671651384,-11.363374010173558,-3.8066081947861363,0.6878441010864265,-5.207391498064837,-7.690218343065837,-0.7200075329934066,1.2170002328665817,-10.126191545645625,5.738024828716817,16.74326854259587,-5.242866282413445,1.2697801275747622,4.0094899977554945,-8.831513084665787,-4.294416333199578,2.079369321884812,-0.602137737013237,5.166774507587263,-3.507191730944186,-12.198055801802056,0.566793995778184,6.652451210620697,13.10745678885742,12.500062378453094,4.201223213841288,-11.867814925196768,0.5260837795365774,3.8421518233629683,-16.577782678221297,-5.76694203354792,-1.1386946712191417,2.2364296665253818,2.3553235630981817,-8.622282915298129,5.76155398608627,2.732581788739182,6.909414527008565,17.659822483189032,-4.830670998335776,-9.65125550016809,23.719781362038646,-14.743628219477941,-9.998652248562948,-6.372338706549982,14.117477864052304,-11.992412255317504,-8.864461701925777,-2.9578412987344223,7.381855349347617,4.481874242493319,0.9579005636512079,-2.139961600482266,10.001246832117161,-3.6476964389285627,-7.567698767522046,-6.584453466002273,1.2508816664198008,18.82748256803567,-0.8435265762885109,-15.176080093889766,-8.637868759196536,-20.642555628640224,4.493211951331745,-4.610547506019515,2.9855734696127882,4.880285550868976,-0.7396371724669848,3.949682995911573,12.867041730594437,4.275701972741018,0.3716651460475191,10.76535003786448,-15.247636294459056,-11.98568771455308,-1.3403333573349414,11.213899523085047,18.782534341654426,-4.315743959431359,-5.027348122813834,-5.10258837034668,-16.00642568171415,-9.616021849683975,6.263638114360788,-17.701904466985923,4.113996154832506,5.870753887583348,5.392300102626606,-10.097589053124196,-1.7650889413939694,3.8877124726207484,5.338598527504459,2.3072139383586006,-3.1210829246630283,-8.949911239775133,1.825578809266986,-1.7552743742179189,15.059097453980414,-4.628436297152092,-6.475325119820937,8.503285877075811,0.7961141442623472,-3.6478730331364204,-10.04452592450582,2.1781057967569666,-9.591259313509596,6.717474360816411,0.9472383488608784,-3.2317661716855213,-0.6783110393542415,13.908002714356826,-7.27699462260955,-6.911916019106087,-5.283990048820797,-1.505399764864336,-2.054264700565824,-2.494470742743303,3.2785729107560257,9.221884606543497,6.082704101877951,25.237004480060563,6.820718381825273,-5.512777407647576,-0.7882619803661868,2.571790710689413,-7.1580525493188105,-6.247232149849367,11.620314813503775,-0.7094694041551577,13.938727384033129,10.93256408877673,0.9940081815137773,12.101266335507646,29.36528032842446,-14.93612849409405,-1.0921355009978413,-4.654808245705894,17.247267618137343,-0.975532443785255,0.632666779197848,9.049267511258549,-22.455360262060992,13.634189333963135,2.978836269347255,1.6712317530768956,-9.932320043394057,5.519688417015544,-7.566336103208769,-9.726692620670889,-2.70476717617305,-3.133957061257604,3.2096409030734065,6.836547571380464,3.153598880102958,6.417452600200434,9.035741298331814,-5.752789974483974,21.69465661501964,-7.80897526660786,-2.9985500607137396,-2.5567750325295577,-10.84679690603069,0.9352825237939726,13.160395633551019,18.587164562936053,1.5566279012167143,-0.5690618581504339,6.6829908464358,9.671768687648111,25.027298799490282,-13.786981343541981,-16.627225576737658,8.356973961352637,-2.2336347457588346,-6.002790957705045,5.777532813608019,14.41893809251362,13.198647994087878,-2.618204939209548,-11.761050835012384,-22.184187297623048,-3.89030225472618,-11.056887029012287,-10.690863435330257,0.9844883842989418,-1.7124856074890573,-16.61104282400605,-1.7560303869719718,10.65177403695239,3.349474874456277,-6.174317132876467,-5.26994269856398,12.683011268271983,5.716051045697128,9.453445228782172,3.206156970728358,-5.045288087015393,3.2109263331592643,-24.715916352717713,-11.48785062571342,-10.691249291420363,1.7490938710794381,3.75996536887007,-12.128920423603347,7.748427314676064,-20.0838715353555,-5.237184246120435,-4.660837853730456,-15.303340444963439,19.977666181094705,6.312748161545983,-4.557161650090066,14.868767344841288,8.521833487040979,-8.184860358806631,-7.551387958297582,-3.248150569391285,-6.785461020743753,-9.192192440490047,11.50853367571753,5.718274348921867,-3.011198782910512,5.321863262373327,4.979473331668402],\"xaxis\":\"x\",\"yaxis\":\"y\",\"type\":\"histogram\"}],                        {\"template\":{\"data\":{\"histogram2dcontour\":[{\"type\":\"histogram2dcontour\",\"colorbar\":{\"outlinewidth\":0,\"ticks\":\"\"},\"colorscale\":[[0.0,\"#0d0887\"],[0.1111111111111111,\"#46039f\"],[0.2222222222222222,\"#7201a8\"],[0.3333333333333333,\"#9c179e\"],[0.4444444444444444,\"#bd3786\"],[0.5555555555555556,\"#d8576b\"],[0.6666666666666666,\"#ed7953\"],[0.7777777777777778,\"#fb9f3a\"],[0.8888888888888888,\"#fdca26\"],[1.0,\"#f0f921\"]]}],\"choropleth\":[{\"type\":\"choropleth\",\"colorbar\":{\"outlinewidth\":0,\"ticks\":\"\"}}],\"histogram2d\":[{\"type\":\"histogram2d\",\"colorbar\":{\"outlinewidth\":0,\"ticks\":\"\"},\"colorscale\":[[0.0,\"#0d0887\"],[0.1111111111111111,\"#46039f\"],[0.2222222222222222,\"#7201a8\"],[0.3333333333333333,\"#9c179e\"],[0.4444444444444444,\"#bd3786\"],[0.5555555555555556,\"#d8576b\"],[0.6666666666666666,\"#ed7953\"],[0.7777777777777778,\"#fb9f3a\"],[0.8888888888888888,\"#fdca26\"],[1.0,\"#f0f921\"]]}],\"heatmap\":[{\"type\":\"heatmap\",\"colorbar\":{\"outlinewidth\":0,\"ticks\":\"\"},\"colorscale\":[[0.0,\"#0d0887\"],[0.1111111111111111,\"#46039f\"],[0.2222222222222222,\"#7201a8\"],[0.3333333333333333,\"#9c179e\"],[0.4444444444444444,\"#bd3786\"],[0.5555555555555556,\"#d8576b\"],[0.6666666666666666,\"#ed7953\"],[0.7777777777777778,\"#fb9f3a\"],[0.8888888888888888,\"#fdca26\"],[1.0,\"#f0f921\"]]}],\"heatmapgl\":[{\"type\":\"heatmapgl\",\"colorbar\":{\"outlinewidth\":0,\"ticks\":\"\"},\"colorscale\":[[0.0,\"#0d0887\"],[0.1111111111111111,\"#46039f\"],[0.2222222222222222,\"#7201a8\"],[0.3333333333333333,\"#9c179e\"],[0.4444444444444444,\"#bd3786\"],[0.5555555555555556,\"#d8576b\"],[0.6666666666666666,\"#ed7953\"],[0.7777777777777778,\"#fb9f3a\"],[0.8888888888888888,\"#fdca26\"],[1.0,\"#f0f921\"]]}],\"contourcarpet\":[{\"type\":\"contourcarpet\",\"colorbar\":{\"outlinewidth\":0,\"ticks\":\"\"}}],\"contour\":[{\"type\":\"contour\",\"colorbar\":{\"outlinewidth\":0,\"ticks\":\"\"},\"colorscale\":[[0.0,\"#0d0887\"],[0.1111111111111111,\"#46039f\"],[0.2222222222222222,\"#7201a8\"],[0.3333333333333333,\"#9c179e\"],[0.4444444444444444,\"#bd3786\"],[0.5555555555555556,\"#d8576b\"],[0.6666666666666666,\"#ed7953\"],[0.7777777777777778,\"#fb9f3a\"],[0.8888888888888888,\"#fdca26\"],[1.0,\"#f0f921\"]]}],\"surface\":[{\"type\":\"surface\",\"colorbar\":{\"outlinewidth\":0,\"ticks\":\"\"},\"colorscale\":[[0.0,\"#0d0887\"],[0.1111111111111111,\"#46039f\"],[0.2222222222222222,\"#7201a8\"],[0.3333333333333333,\"#9c179e\"],[0.4444444444444444,\"#bd3786\"],[0.5555555555555556,\"#d8576b\"],[0.6666666666666666,\"#ed7953\"],[0.7777777777777778,\"#fb9f3a\"],[0.8888888888888888,\"#fdca26\"],[1.0,\"#f0f921\"]]}],\"mesh3d\":[{\"type\":\"mesh3d\",\"colorbar\":{\"outlinewidth\":0,\"ticks\":\"\"}}],\"scatter\":[{\"fillpattern\":{\"fillmode\":\"overlay\",\"size\":10,\"solidity\":0.2},\"type\":\"scatter\"}],\"parcoords\":[{\"type\":\"parcoords\",\"line\":{\"colorbar\":{\"outlinewidth\":0,\"ticks\":\"\"}}}],\"scatterpolargl\":[{\"type\":\"scatterpolargl\",\"marker\":{\"colorbar\":{\"outlinewidth\":0,\"ticks\":\"\"}}}],\"bar\":[{\"error_x\":{\"color\":\"#2a3f5f\"},\"error_y\":{\"color\":\"#2a3f5f\"},\"marker\":{\"line\":{\"color\":\"#E5ECF6\",\"width\":0.5},\"pattern\":{\"fillmode\":\"overlay\",\"size\":10,\"solidity\":0.2}},\"type\":\"bar\"}],\"scattergeo\":[{\"type\":\"scattergeo\",\"marker\":{\"colorbar\":{\"outlinewidth\":0,\"ticks\":\"\"}}}],\"scatterpolar\":[{\"type\":\"scatterpolar\",\"marker\":{\"colorbar\":{\"outlinewidth\":0,\"ticks\":\"\"}}}],\"histogram\":[{\"marker\":{\"pattern\":{\"fillmode\":\"overlay\",\"size\":10,\"solidity\":0.2}},\"type\":\"histogram\"}],\"scattergl\":[{\"type\":\"scattergl\",\"marker\":{\"colorbar\":{\"outlinewidth\":0,\"ticks\":\"\"}}}],\"scatter3d\":[{\"type\":\"scatter3d\",\"line\":{\"colorbar\":{\"outlinewidth\":0,\"ticks\":\"\"}},\"marker\":{\"colorbar\":{\"outlinewidth\":0,\"ticks\":\"\"}}}],\"scattermapbox\":[{\"type\":\"scattermapbox\",\"marker\":{\"colorbar\":{\"outlinewidth\":0,\"ticks\":\"\"}}}],\"scatterternary\":[{\"type\":\"scatterternary\",\"marker\":{\"colorbar\":{\"outlinewidth\":0,\"ticks\":\"\"}}}],\"scattercarpet\":[{\"type\":\"scattercarpet\",\"marker\":{\"colorbar\":{\"outlinewidth\":0,\"ticks\":\"\"}}}],\"carpet\":[{\"aaxis\":{\"endlinecolor\":\"#2a3f5f\",\"gridcolor\":\"white\",\"linecolor\":\"white\",\"minorgridcolor\":\"white\",\"startlinecolor\":\"#2a3f5f\"},\"baxis\":{\"endlinecolor\":\"#2a3f5f\",\"gridcolor\":\"white\",\"linecolor\":\"white\",\"minorgridcolor\":\"white\",\"startlinecolor\":\"#2a3f5f\"},\"type\":\"carpet\"}],\"table\":[{\"cells\":{\"fill\":{\"color\":\"#EBF0F8\"},\"line\":{\"color\":\"white\"}},\"header\":{\"fill\":{\"color\":\"#C8D4E3\"},\"line\":{\"color\":\"white\"}},\"type\":\"table\"}],\"barpolar\":[{\"marker\":{\"line\":{\"color\":\"#E5ECF6\",\"width\":0.5},\"pattern\":{\"fillmode\":\"overlay\",\"size\":10,\"solidity\":0.2}},\"type\":\"barpolar\"}],\"pie\":[{\"automargin\":true,\"type\":\"pie\"}]},\"layout\":{\"autotypenumbers\":\"strict\",\"colorway\":[\"#636efa\",\"#EF553B\",\"#00cc96\",\"#ab63fa\",\"#FFA15A\",\"#19d3f3\",\"#FF6692\",\"#B6E880\",\"#FF97FF\",\"#FECB52\"],\"font\":{\"color\":\"#2a3f5f\"},\"hovermode\":\"closest\",\"hoverlabel\":{\"align\":\"left\"},\"paper_bgcolor\":\"white\",\"plot_bgcolor\":\"#E5ECF6\",\"polar\":{\"bgcolor\":\"#E5ECF6\",\"angularaxis\":{\"gridcolor\":\"white\",\"linecolor\":\"white\",\"ticks\":\"\"},\"radialaxis\":{\"gridcolor\":\"white\",\"linecolor\":\"white\",\"ticks\":\"\"}},\"ternary\":{\"bgcolor\":\"#E5ECF6\",\"aaxis\":{\"gridcolor\":\"white\",\"linecolor\":\"white\",\"ticks\":\"\"},\"baxis\":{\"gridcolor\":\"white\",\"linecolor\":\"white\",\"ticks\":\"\"},\"caxis\":{\"gridcolor\":\"white\",\"linecolor\":\"white\",\"ticks\":\"\"}},\"coloraxis\":{\"colorbar\":{\"outlinewidth\":0,\"ticks\":\"\"}},\"colorscale\":{\"sequential\":[[0.0,\"#0d0887\"],[0.1111111111111111,\"#46039f\"],[0.2222222222222222,\"#7201a8\"],[0.3333333333333333,\"#9c179e\"],[0.4444444444444444,\"#bd3786\"],[0.5555555555555556,\"#d8576b\"],[0.6666666666666666,\"#ed7953\"],[0.7777777777777778,\"#fb9f3a\"],[0.8888888888888888,\"#fdca26\"],[1.0,\"#f0f921\"]],\"sequentialminus\":[[0.0,\"#0d0887\"],[0.1111111111111111,\"#46039f\"],[0.2222222222222222,\"#7201a8\"],[0.3333333333333333,\"#9c179e\"],[0.4444444444444444,\"#bd3786\"],[0.5555555555555556,\"#d8576b\"],[0.6666666666666666,\"#ed7953\"],[0.7777777777777778,\"#fb9f3a\"],[0.8888888888888888,\"#fdca26\"],[1.0,\"#f0f921\"]],\"diverging\":[[0,\"#8e0152\"],[0.1,\"#c51b7d\"],[0.2,\"#de77ae\"],[0.3,\"#f1b6da\"],[0.4,\"#fde0ef\"],[0.5,\"#f7f7f7\"],[0.6,\"#e6f5d0\"],[0.7,\"#b8e186\"],[0.8,\"#7fbc41\"],[0.9,\"#4d9221\"],[1,\"#276419\"]]},\"xaxis\":{\"gridcolor\":\"white\",\"linecolor\":\"white\",\"ticks\":\"\",\"title\":{\"standoff\":15},\"zerolinecolor\":\"white\",\"automargin\":true,\"zerolinewidth\":2},\"yaxis\":{\"gridcolor\":\"white\",\"linecolor\":\"white\",\"ticks\":\"\",\"title\":{\"standoff\":15},\"zerolinecolor\":\"white\",\"automargin\":true,\"zerolinewidth\":2},\"scene\":{\"xaxis\":{\"backgroundcolor\":\"#E5ECF6\",\"gridcolor\":\"white\",\"linecolor\":\"white\",\"showbackground\":true,\"ticks\":\"\",\"zerolinecolor\":\"white\",\"gridwidth\":2},\"yaxis\":{\"backgroundcolor\":\"#E5ECF6\",\"gridcolor\":\"white\",\"linecolor\":\"white\",\"showbackground\":true,\"ticks\":\"\",\"zerolinecolor\":\"white\",\"gridwidth\":2},\"zaxis\":{\"backgroundcolor\":\"#E5ECF6\",\"gridcolor\":\"white\",\"linecolor\":\"white\",\"showbackground\":true,\"ticks\":\"\",\"zerolinecolor\":\"white\",\"gridwidth\":2}},\"shapedefaults\":{\"line\":{\"color\":\"#2a3f5f\"}},\"annotationdefaults\":{\"arrowcolor\":\"#2a3f5f\",\"arrowhead\":0,\"arrowwidth\":1},\"geo\":{\"bgcolor\":\"white\",\"landcolor\":\"#E5ECF6\",\"subunitcolor\":\"white\",\"showland\":true,\"showlakes\":true,\"lakecolor\":\"white\"},\"title\":{\"x\":0.05},\"mapbox\":{\"style\":\"light\"}}},\"xaxis\":{\"anchor\":\"y\",\"domain\":[0.0,1.0],\"title\":{\"text\":\"error\"}},\"yaxis\":{\"anchor\":\"x\",\"domain\":[0.0,1.0],\"title\":{\"text\":\"count\"}},\"legend\":{\"tracegroupgap\":0},\"margin\":{\"t\":60},\"barmode\":\"relative\"},                        {\"responsive\": true}                    ).then(function(){\n",
              "                            \n",
              "var gd = document.getElementById('a857cdf3-4738-44af-bd61-e8be87bafb9d');\n",
              "var x = new MutationObserver(function (mutations, observer) {{\n",
              "        var display = window.getComputedStyle(gd).display;\n",
              "        if (!display || display === 'none') {{\n",
              "            console.log([gd, 'removed!']);\n",
              "            Plotly.purge(gd);\n",
              "            observer.disconnect();\n",
              "        }}\n",
              "}});\n",
              "\n",
              "// Listen for the removal of the full notebook cells\n",
              "var notebookContainer = gd.closest('#notebook-container');\n",
              "if (notebookContainer) {{\n",
              "    x.observe(notebookContainer, {childList: true});\n",
              "}}\n",
              "\n",
              "// Listen for the clearing of the current output cell\n",
              "var outputEl = gd.closest('.output');\n",
              "if (outputEl) {{\n",
              "    x.observe(outputEl, {childList: true});\n",
              "}}\n",
              "\n",
              "                        })                };                            </script>        </div>\n",
              "</body>\n",
              "</html>"
            ]
          },
          "metadata": {}
        }
      ]
    },
    {
      "cell_type": "markdown",
      "source": [
        "## Mean Absolute Error - Średni błąd bezwzględny"
      ],
      "metadata": {
        "id": "i7Fc3mUlKtkQ"
      }
    },
    {
      "cell_type": "code",
      "source": [
        "def mae(results):\n",
        "  return abs(results['error']).sum() / len(results)\n",
        "\n",
        "mae(results)"
      ],
      "metadata": {
        "colab": {
          "base_uri": "https://localhost:8080/"
        },
        "id": "zXz4lHF9K7I2",
        "outputId": "45b95bd0-1375-4cc0-e364-fe74e2e74005"
      },
      "execution_count": 30,
      "outputs": [
        {
          "output_type": "execute_result",
          "data": {
            "text/plain": [
              "8.065846065101226"
            ]
          },
          "metadata": {},
          "execution_count": 30
        }
      ]
    },
    {
      "cell_type": "code",
      "source": [
        "mean_absolute_error(results['y_true'], results['y_pred'])"
      ],
      "metadata": {
        "colab": {
          "base_uri": "https://localhost:8080/"
        },
        "id": "dQwEMsZUMLhl",
        "outputId": "0c6a01c5-bf77-488f-c3cd-c6b6ad5ce56a"
      },
      "execution_count": 33,
      "outputs": [
        {
          "output_type": "execute_result",
          "data": {
            "text/plain": [
              "8.065846065101226"
            ]
          },
          "metadata": {},
          "execution_count": 33
        }
      ]
    },
    {
      "cell_type": "markdown",
      "source": [
        "## Mean Squared Error - Błąd średniokwadratowy"
      ],
      "metadata": {
        "id": "h40cUI5YMRmu"
      }
    },
    {
      "cell_type": "code",
      "source": [
        "def mse(results):\n",
        "  return (results['error']**2).sum() / len(results)\n",
        "\n",
        "mse(results)"
      ],
      "metadata": {
        "colab": {
          "base_uri": "https://localhost:8080/"
        },
        "id": "MoKFsNCEMfji",
        "outputId": "03d7de9b-d005-44cc-a5ba-37583440869f"
      },
      "execution_count": 34,
      "outputs": [
        {
          "output_type": "execute_result",
          "data": {
            "text/plain": [
              "102.70956647918287"
            ]
          },
          "metadata": {},
          "execution_count": 34
        }
      ]
    },
    {
      "cell_type": "code",
      "source": [
        "mean_squared_error(results['y_true'], results['y_pred'])"
      ],
      "metadata": {
        "colab": {
          "base_uri": "https://localhost:8080/"
        },
        "id": "f4xvTf2LM-WF",
        "outputId": "fc544fd8-2fae-46ab-e7d1-dbc7620ec2d2"
      },
      "execution_count": 36,
      "outputs": [
        {
          "output_type": "execute_result",
          "data": {
            "text/plain": [
              "102.70956647918287"
            ]
          },
          "metadata": {},
          "execution_count": 36
        }
      ]
    },
    {
      "cell_type": "markdown",
      "source": [
        "## Root Mean Squared Error - Pierwiastek Błędu średniokwadratowego"
      ],
      "metadata": {
        "id": "MIfnv6JcNTTu"
      }
    },
    {
      "cell_type": "code",
      "source": [
        "def rmse(results):\n",
        "  return np.sqrt(mse(results))\n",
        "\n",
        "rmse(results)"
      ],
      "metadata": {
        "colab": {
          "base_uri": "https://localhost:8080/"
        },
        "id": "joFIFMMcNSSB",
        "outputId": "2ee24369-612e-45ac-c57d-2c723fec6b9b"
      },
      "execution_count": 37,
      "outputs": [
        {
          "output_type": "execute_result",
          "data": {
            "text/plain": [
              "10.134572831608784"
            ]
          },
          "metadata": {},
          "execution_count": 37
        }
      ]
    },
    {
      "cell_type": "markdown",
      "source": [
        "## Max Error - Błąd maksymalny"
      ],
      "metadata": {
        "id": "031EUmB-N3zm"
      }
    },
    {
      "cell_type": "code",
      "source": [
        "def me(results):\n",
        "  return results['error'].abs().max()\n",
        "\n",
        "me(results)"
      ],
      "metadata": {
        "colab": {
          "base_uri": "https://localhost:8080/"
        },
        "id": "wjNrzARgN9jZ",
        "outputId": "076fbb0a-d096-4268-be98-d1c43d6f2721"
      },
      "execution_count": 41,
      "outputs": [
        {
          "output_type": "execute_result",
          "data": {
            "text/plain": [
              "37.70986417901875"
            ]
          },
          "metadata": {},
          "execution_count": 41
        }
      ]
    },
    {
      "cell_type": "code",
      "source": [
        "max_error(results['y_true'], results['y_pred'])"
      ],
      "metadata": {
        "colab": {
          "base_uri": "https://localhost:8080/"
        },
        "id": "ydd3HspXOMeT",
        "outputId": "27881c7b-1295-45f1-ef9f-4ceaf3198c12"
      },
      "execution_count": 50,
      "outputs": [
        {
          "output_type": "execute_result",
          "data": {
            "text/plain": [
              "37.70986417901875"
            ]
          },
          "metadata": {},
          "execution_count": 50
        }
      ]
    },
    {
      "cell_type": "markdown",
      "source": [
        "## R2 score - współczynnik determinacji"
      ],
      "metadata": {
        "id": "rameC4DCPDbI"
      }
    },
    {
      "cell_type": "code",
      "source": [
        "r2_score(results['y_true'], results['y_pred'])"
      ],
      "metadata": {
        "colab": {
          "base_uri": "https://localhost:8080/"
        },
        "id": "4mCnY62FPKZz",
        "outputId": "f119202b-5bef-4485-9bda-542c88a7637b"
      },
      "execution_count": 52,
      "outputs": [
        {
          "output_type": "execute_result",
          "data": {
            "text/plain": [
              "0.7282231502042836"
            ]
          },
          "metadata": {},
          "execution_count": 52
        }
      ]
    },
    {
      "cell_type": "code",
      "source": [
        "def r2s(results):\n",
        "  numerator = (results['error']**2).sum()\n",
        "  denominator = ((results['y_true'] - results['y_true'].mean())**2).sum()\n",
        "  try:\n",
        "    r2 = 1 - numerator / denominator\n",
        "  except ZeroDivisionError:\n",
        "    r2 = 0\n",
        "  return r2\n",
        "\n",
        "r2s(results)"
      ],
      "metadata": {
        "colab": {
          "base_uri": "https://localhost:8080/"
        },
        "id": "LGV1oNKqPRym",
        "outputId": "38960322-68ee-4f85-ebc3-07b3ea9ab351"
      },
      "execution_count": 53,
      "outputs": [
        {
          "output_type": "execute_result",
          "data": {
            "text/plain": [
              "0.7282231502042836"
            ]
          },
          "metadata": {},
          "execution_count": 53
        }
      ]
    }
  ]
}